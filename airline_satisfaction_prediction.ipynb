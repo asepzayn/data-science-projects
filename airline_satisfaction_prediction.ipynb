{
  "nbformat": 4,
  "nbformat_minor": 0,
  "metadata": {
    "colab": {
      "name": "DS-5 Airline Satisfaction.ipynb",
      "provenance": [],
      "collapsed_sections": [],
      "include_colab_link": true
    },
    "kernelspec": {
      "display_name": "Python 3",
      "name": "python3"
    }
  },
  "cells": [
    {
      "cell_type": "markdown",
      "metadata": {
        "id": "view-in-github",
        "colab_type": "text"
      },
      "source": [
        "<a href=\"https://colab.research.google.com/github/asepzayn/data-analisis/blob/main/project_intern_bcc.ipynb\" target=\"_parent\"><img src=\"https://colab.research.google.com/assets/colab-badge.svg\" alt=\"Open In Colab\"/></a>"
      ]
    },
    {
      "cell_type": "markdown",
      "metadata": {
        "id": "iZ7jAXsbJXQx"
      },
      "source": [
        "Data Science Workflow:\n",
        "1. Research Goal\n",
        "2. Retrieving Data\n",
        "3. Data Preparation and Preprocessing\n",
        "4. Data Visualization\n",
        "5. Data Modelling\n",
        "6. Report"
      ]
    },
    {
      "cell_type": "markdown",
      "metadata": {
        "id": "UeDrEFzlJjqX"
      },
      "source": [
        "# Research Goal"
      ]
    },
    {
      "cell_type": "markdown",
      "metadata": {
        "id": "IkISf-C8Jm_Y"
      },
      "source": [
        "Modelling data dan Implementasi algoritma-algoritma classification untuk memprediksi kepuasan penumpang pesawat terbang berdasarkan data yang kami dapatkan dari https://www.kaggle.com/teejmahal20/airline-passenger-satisfaction?select=train.csv"
      ]
    },
    {
      "cell_type": "markdown",
      "metadata": {
        "id": "HwipyxYRAsWI"
      },
      "source": [
        "# Retrieving Data"
      ]
    },
    {
      "cell_type": "markdown",
      "metadata": {
        "id": "0pm9iXG86FsY"
      },
      "source": [
        "###Import Library & Csv"
      ]
    },
    {
      "cell_type": "code",
      "metadata": {
        "id": "GeghnO5quGKO",
        "colab": {
          "resources": {
            "http://localhost:8080/nbextensions/google.colab/files.js": {
              "data": "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",
              "ok": true,
              "headers": [
                [
                  "content-type",
                  "application/javascript"
                ]
              ],
              "status": 200,
              "status_text": ""
            }
          },
          "base_uri": "https://localhost:8080/",
          "height": 108
        },
        "outputId": "e0cba868-8c93-495e-a023-6dd310870654"
      },
      "source": [
        "import numpy as np\n",
        "import pandas as pd\n",
        "import seaborn as sns\n",
        "import matplotlib.pyplot as plt\n",
        " \n",
        "from google.colab import files\n",
        "uploaded = files.upload()"
      ],
      "execution_count": null,
      "outputs": [
        {
          "output_type": "display_data",
          "data": {
            "text/html": [
              "\n",
              "     <input type=\"file\" id=\"files-72bc1a32-195a-4733-aa9a-9073ebb1c2ec\" name=\"files[]\" multiple disabled\n",
              "        style=\"border:none\" />\n",
              "     <output id=\"result-72bc1a32-195a-4733-aa9a-9073ebb1c2ec\">\n",
              "      Upload widget is only available when the cell has been executed in the\n",
              "      current browser session. Please rerun this cell to enable.\n",
              "      </output>\n",
              "      <script src=\"/nbextensions/google.colab/files.js\"></script> "
            ],
            "text/plain": [
              "<IPython.core.display.HTML object>"
            ]
          },
          "metadata": {
            "tags": []
          }
        },
        {
          "output_type": "stream",
          "text": [
            "Saving test.csv to test.csv\n",
            "Saving train.csv to train.csv\n"
          ],
          "name": "stdout"
        }
      ]
    },
    {
      "cell_type": "code",
      "metadata": {
        "id": "-wsxMk-kuspv",
        "colab": {
          "base_uri": "https://localhost:8080/",
          "height": 661
        },
        "outputId": "619eac50-76ab-4089-af78-7589a5f9af8c"
      },
      "source": [
        "df_train = pd.read_csv('train.csv')\n",
        "df_train"
      ],
      "execution_count": null,
      "outputs": [
        {
          "output_type": "execute_result",
          "data": {
            "text/html": [
              "<div>\n",
              "<style scoped>\n",
              "    .dataframe tbody tr th:only-of-type {\n",
              "        vertical-align: middle;\n",
              "    }\n",
              "\n",
              "    .dataframe tbody tr th {\n",
              "        vertical-align: top;\n",
              "    }\n",
              "\n",
              "    .dataframe thead th {\n",
              "        text-align: right;\n",
              "    }\n",
              "</style>\n",
              "<table border=\"1\" class=\"dataframe\">\n",
              "  <thead>\n",
              "    <tr style=\"text-align: right;\">\n",
              "      <th></th>\n",
              "      <th>Unnamed: 0</th>\n",
              "      <th>id</th>\n",
              "      <th>Gender</th>\n",
              "      <th>Customer Type</th>\n",
              "      <th>Age</th>\n",
              "      <th>Type of Travel</th>\n",
              "      <th>Class</th>\n",
              "      <th>Flight Distance</th>\n",
              "      <th>Inflight wifi service</th>\n",
              "      <th>Departure/Arrival time convenient</th>\n",
              "      <th>Ease of Online booking</th>\n",
              "      <th>Gate location</th>\n",
              "      <th>Food and drink</th>\n",
              "      <th>Online boarding</th>\n",
              "      <th>Seat comfort</th>\n",
              "      <th>Inflight entertainment</th>\n",
              "      <th>On-board service</th>\n",
              "      <th>Leg room service</th>\n",
              "      <th>Baggage handling</th>\n",
              "      <th>Checkin service</th>\n",
              "      <th>Inflight service</th>\n",
              "      <th>Cleanliness</th>\n",
              "      <th>Departure Delay in Minutes</th>\n",
              "      <th>Arrival Delay in Minutes</th>\n",
              "      <th>satisfaction</th>\n",
              "    </tr>\n",
              "  </thead>\n",
              "  <tbody>\n",
              "    <tr>\n",
              "      <th>0</th>\n",
              "      <td>0</td>\n",
              "      <td>70172</td>\n",
              "      <td>Male</td>\n",
              "      <td>Loyal Customer</td>\n",
              "      <td>13</td>\n",
              "      <td>Personal Travel</td>\n",
              "      <td>Eco Plus</td>\n",
              "      <td>460</td>\n",
              "      <td>3</td>\n",
              "      <td>4</td>\n",
              "      <td>3</td>\n",
              "      <td>1</td>\n",
              "      <td>5</td>\n",
              "      <td>3</td>\n",
              "      <td>5</td>\n",
              "      <td>5</td>\n",
              "      <td>4</td>\n",
              "      <td>3</td>\n",
              "      <td>4</td>\n",
              "      <td>4</td>\n",
              "      <td>5</td>\n",
              "      <td>5</td>\n",
              "      <td>25</td>\n",
              "      <td>18.0</td>\n",
              "      <td>neutral or dissatisfied</td>\n",
              "    </tr>\n",
              "    <tr>\n",
              "      <th>1</th>\n",
              "      <td>1</td>\n",
              "      <td>5047</td>\n",
              "      <td>Male</td>\n",
              "      <td>disloyal Customer</td>\n",
              "      <td>25</td>\n",
              "      <td>Business travel</td>\n",
              "      <td>Business</td>\n",
              "      <td>235</td>\n",
              "      <td>3</td>\n",
              "      <td>2</td>\n",
              "      <td>3</td>\n",
              "      <td>3</td>\n",
              "      <td>1</td>\n",
              "      <td>3</td>\n",
              "      <td>1</td>\n",
              "      <td>1</td>\n",
              "      <td>1</td>\n",
              "      <td>5</td>\n",
              "      <td>3</td>\n",
              "      <td>1</td>\n",
              "      <td>4</td>\n",
              "      <td>1</td>\n",
              "      <td>1</td>\n",
              "      <td>6.0</td>\n",
              "      <td>neutral or dissatisfied</td>\n",
              "    </tr>\n",
              "    <tr>\n",
              "      <th>2</th>\n",
              "      <td>2</td>\n",
              "      <td>110028</td>\n",
              "      <td>Female</td>\n",
              "      <td>Loyal Customer</td>\n",
              "      <td>26</td>\n",
              "      <td>Business travel</td>\n",
              "      <td>Business</td>\n",
              "      <td>1142</td>\n",
              "      <td>2</td>\n",
              "      <td>2</td>\n",
              "      <td>2</td>\n",
              "      <td>2</td>\n",
              "      <td>5</td>\n",
              "      <td>5</td>\n",
              "      <td>5</td>\n",
              "      <td>5</td>\n",
              "      <td>4</td>\n",
              "      <td>3</td>\n",
              "      <td>4</td>\n",
              "      <td>4</td>\n",
              "      <td>4</td>\n",
              "      <td>5</td>\n",
              "      <td>0</td>\n",
              "      <td>0.0</td>\n",
              "      <td>satisfied</td>\n",
              "    </tr>\n",
              "    <tr>\n",
              "      <th>3</th>\n",
              "      <td>3</td>\n",
              "      <td>24026</td>\n",
              "      <td>Female</td>\n",
              "      <td>Loyal Customer</td>\n",
              "      <td>25</td>\n",
              "      <td>Business travel</td>\n",
              "      <td>Business</td>\n",
              "      <td>562</td>\n",
              "      <td>2</td>\n",
              "      <td>5</td>\n",
              "      <td>5</td>\n",
              "      <td>5</td>\n",
              "      <td>2</td>\n",
              "      <td>2</td>\n",
              "      <td>2</td>\n",
              "      <td>2</td>\n",
              "      <td>2</td>\n",
              "      <td>5</td>\n",
              "      <td>3</td>\n",
              "      <td>1</td>\n",
              "      <td>4</td>\n",
              "      <td>2</td>\n",
              "      <td>11</td>\n",
              "      <td>9.0</td>\n",
              "      <td>neutral or dissatisfied</td>\n",
              "    </tr>\n",
              "    <tr>\n",
              "      <th>4</th>\n",
              "      <td>4</td>\n",
              "      <td>119299</td>\n",
              "      <td>Male</td>\n",
              "      <td>Loyal Customer</td>\n",
              "      <td>61</td>\n",
              "      <td>Business travel</td>\n",
              "      <td>Business</td>\n",
              "      <td>214</td>\n",
              "      <td>3</td>\n",
              "      <td>3</td>\n",
              "      <td>3</td>\n",
              "      <td>3</td>\n",
              "      <td>4</td>\n",
              "      <td>5</td>\n",
              "      <td>5</td>\n",
              "      <td>3</td>\n",
              "      <td>3</td>\n",
              "      <td>4</td>\n",
              "      <td>4</td>\n",
              "      <td>3</td>\n",
              "      <td>3</td>\n",
              "      <td>3</td>\n",
              "      <td>0</td>\n",
              "      <td>0.0</td>\n",
              "      <td>satisfied</td>\n",
              "    </tr>\n",
              "    <tr>\n",
              "      <th>...</th>\n",
              "      <td>...</td>\n",
              "      <td>...</td>\n",
              "      <td>...</td>\n",
              "      <td>...</td>\n",
              "      <td>...</td>\n",
              "      <td>...</td>\n",
              "      <td>...</td>\n",
              "      <td>...</td>\n",
              "      <td>...</td>\n",
              "      <td>...</td>\n",
              "      <td>...</td>\n",
              "      <td>...</td>\n",
              "      <td>...</td>\n",
              "      <td>...</td>\n",
              "      <td>...</td>\n",
              "      <td>...</td>\n",
              "      <td>...</td>\n",
              "      <td>...</td>\n",
              "      <td>...</td>\n",
              "      <td>...</td>\n",
              "      <td>...</td>\n",
              "      <td>...</td>\n",
              "      <td>...</td>\n",
              "      <td>...</td>\n",
              "      <td>...</td>\n",
              "    </tr>\n",
              "    <tr>\n",
              "      <th>103899</th>\n",
              "      <td>103899</td>\n",
              "      <td>94171</td>\n",
              "      <td>Female</td>\n",
              "      <td>disloyal Customer</td>\n",
              "      <td>23</td>\n",
              "      <td>Business travel</td>\n",
              "      <td>Eco</td>\n",
              "      <td>192</td>\n",
              "      <td>2</td>\n",
              "      <td>1</td>\n",
              "      <td>2</td>\n",
              "      <td>3</td>\n",
              "      <td>2</td>\n",
              "      <td>2</td>\n",
              "      <td>2</td>\n",
              "      <td>2</td>\n",
              "      <td>3</td>\n",
              "      <td>1</td>\n",
              "      <td>4</td>\n",
              "      <td>2</td>\n",
              "      <td>3</td>\n",
              "      <td>2</td>\n",
              "      <td>3</td>\n",
              "      <td>0.0</td>\n",
              "      <td>neutral or dissatisfied</td>\n",
              "    </tr>\n",
              "    <tr>\n",
              "      <th>103900</th>\n",
              "      <td>103900</td>\n",
              "      <td>73097</td>\n",
              "      <td>Male</td>\n",
              "      <td>Loyal Customer</td>\n",
              "      <td>49</td>\n",
              "      <td>Business travel</td>\n",
              "      <td>Business</td>\n",
              "      <td>2347</td>\n",
              "      <td>4</td>\n",
              "      <td>4</td>\n",
              "      <td>4</td>\n",
              "      <td>4</td>\n",
              "      <td>2</td>\n",
              "      <td>4</td>\n",
              "      <td>5</td>\n",
              "      <td>5</td>\n",
              "      <td>5</td>\n",
              "      <td>5</td>\n",
              "      <td>5</td>\n",
              "      <td>5</td>\n",
              "      <td>5</td>\n",
              "      <td>4</td>\n",
              "      <td>0</td>\n",
              "      <td>0.0</td>\n",
              "      <td>satisfied</td>\n",
              "    </tr>\n",
              "    <tr>\n",
              "      <th>103901</th>\n",
              "      <td>103901</td>\n",
              "      <td>68825</td>\n",
              "      <td>Male</td>\n",
              "      <td>disloyal Customer</td>\n",
              "      <td>30</td>\n",
              "      <td>Business travel</td>\n",
              "      <td>Business</td>\n",
              "      <td>1995</td>\n",
              "      <td>1</td>\n",
              "      <td>1</td>\n",
              "      <td>1</td>\n",
              "      <td>3</td>\n",
              "      <td>4</td>\n",
              "      <td>1</td>\n",
              "      <td>5</td>\n",
              "      <td>4</td>\n",
              "      <td>3</td>\n",
              "      <td>2</td>\n",
              "      <td>4</td>\n",
              "      <td>5</td>\n",
              "      <td>5</td>\n",
              "      <td>4</td>\n",
              "      <td>7</td>\n",
              "      <td>14.0</td>\n",
              "      <td>neutral or dissatisfied</td>\n",
              "    </tr>\n",
              "    <tr>\n",
              "      <th>103902</th>\n",
              "      <td>103902</td>\n",
              "      <td>54173</td>\n",
              "      <td>Female</td>\n",
              "      <td>disloyal Customer</td>\n",
              "      <td>22</td>\n",
              "      <td>Business travel</td>\n",
              "      <td>Eco</td>\n",
              "      <td>1000</td>\n",
              "      <td>1</td>\n",
              "      <td>1</td>\n",
              "      <td>1</td>\n",
              "      <td>5</td>\n",
              "      <td>1</td>\n",
              "      <td>1</td>\n",
              "      <td>1</td>\n",
              "      <td>1</td>\n",
              "      <td>4</td>\n",
              "      <td>5</td>\n",
              "      <td>1</td>\n",
              "      <td>5</td>\n",
              "      <td>4</td>\n",
              "      <td>1</td>\n",
              "      <td>0</td>\n",
              "      <td>0.0</td>\n",
              "      <td>neutral or dissatisfied</td>\n",
              "    </tr>\n",
              "    <tr>\n",
              "      <th>103903</th>\n",
              "      <td>103903</td>\n",
              "      <td>62567</td>\n",
              "      <td>Male</td>\n",
              "      <td>Loyal Customer</td>\n",
              "      <td>27</td>\n",
              "      <td>Business travel</td>\n",
              "      <td>Business</td>\n",
              "      <td>1723</td>\n",
              "      <td>1</td>\n",
              "      <td>3</td>\n",
              "      <td>3</td>\n",
              "      <td>3</td>\n",
              "      <td>1</td>\n",
              "      <td>1</td>\n",
              "      <td>1</td>\n",
              "      <td>1</td>\n",
              "      <td>1</td>\n",
              "      <td>1</td>\n",
              "      <td>4</td>\n",
              "      <td>4</td>\n",
              "      <td>3</td>\n",
              "      <td>1</td>\n",
              "      <td>0</td>\n",
              "      <td>0.0</td>\n",
              "      <td>neutral or dissatisfied</td>\n",
              "    </tr>\n",
              "  </tbody>\n",
              "</table>\n",
              "<p>103904 rows × 25 columns</p>\n",
              "</div>"
            ],
            "text/plain": [
              "        Unnamed: 0      id  ... Arrival Delay in Minutes             satisfaction\n",
              "0                0   70172  ...                     18.0  neutral or dissatisfied\n",
              "1                1    5047  ...                      6.0  neutral or dissatisfied\n",
              "2                2  110028  ...                      0.0                satisfied\n",
              "3                3   24026  ...                      9.0  neutral or dissatisfied\n",
              "4                4  119299  ...                      0.0                satisfied\n",
              "...            ...     ...  ...                      ...                      ...\n",
              "103899      103899   94171  ...                      0.0  neutral or dissatisfied\n",
              "103900      103900   73097  ...                      0.0                satisfied\n",
              "103901      103901   68825  ...                     14.0  neutral or dissatisfied\n",
              "103902      103902   54173  ...                      0.0  neutral or dissatisfied\n",
              "103903      103903   62567  ...                      0.0  neutral or dissatisfied\n",
              "\n",
              "[103904 rows x 25 columns]"
            ]
          },
          "metadata": {
            "tags": []
          },
          "execution_count": 3
        }
      ]
    },
    {
      "cell_type": "code",
      "metadata": {
        "id": "wOgmLI3izrlX",
        "colab": {
          "base_uri": "https://localhost:8080/"
        },
        "outputId": "99a92473-f87e-4413-e26d-2598f7b8e7f3"
      },
      "source": [
        "df_train.info()"
      ],
      "execution_count": null,
      "outputs": [
        {
          "output_type": "stream",
          "text": [
            "<class 'pandas.core.frame.DataFrame'>\n",
            "RangeIndex: 103904 entries, 0 to 103903\n",
            "Data columns (total 25 columns):\n",
            " #   Column                             Non-Null Count   Dtype  \n",
            "---  ------                             --------------   -----  \n",
            " 0   Unnamed: 0                         103904 non-null  int64  \n",
            " 1   id                                 103904 non-null  int64  \n",
            " 2   Gender                             103904 non-null  object \n",
            " 3   Customer Type                      103904 non-null  object \n",
            " 4   Age                                103904 non-null  int64  \n",
            " 5   Type of Travel                     103904 non-null  object \n",
            " 6   Class                              103904 non-null  object \n",
            " 7   Flight Distance                    103904 non-null  int64  \n",
            " 8   Inflight wifi service              103904 non-null  int64  \n",
            " 9   Departure/Arrival time convenient  103904 non-null  int64  \n",
            " 10  Ease of Online booking             103904 non-null  int64  \n",
            " 11  Gate location                      103904 non-null  int64  \n",
            " 12  Food and drink                     103904 non-null  int64  \n",
            " 13  Online boarding                    103904 non-null  int64  \n",
            " 14  Seat comfort                       103904 non-null  int64  \n",
            " 15  Inflight entertainment             103904 non-null  int64  \n",
            " 16  On-board service                   103904 non-null  int64  \n",
            " 17  Leg room service                   103904 non-null  int64  \n",
            " 18  Baggage handling                   103904 non-null  int64  \n",
            " 19  Checkin service                    103904 non-null  int64  \n",
            " 20  Inflight service                   103904 non-null  int64  \n",
            " 21  Cleanliness                        103904 non-null  int64  \n",
            " 22  Departure Delay in Minutes         103904 non-null  int64  \n",
            " 23  Arrival Delay in Minutes           103594 non-null  float64\n",
            " 24  satisfaction                       103904 non-null  object \n",
            "dtypes: float64(1), int64(19), object(5)\n",
            "memory usage: 19.8+ MB\n"
          ],
          "name": "stdout"
        }
      ]
    },
    {
      "cell_type": "markdown",
      "metadata": {
        "id": "60uxyD0aBfBQ"
      },
      "source": [
        "# Data Preparation and Preprocessing"
      ]
    },
    {
      "cell_type": "markdown",
      "metadata": {
        "id": "VGe_UpX-6bUL"
      },
      "source": [
        "###Cek apakah ada null"
      ]
    },
    {
      "cell_type": "code",
      "metadata": {
        "id": "iVLQkBeYz1uB",
        "colab": {
          "base_uri": "https://localhost:8080/"
        },
        "outputId": "295b646c-e468-4c70-d6bc-9be9a66484ae"
      },
      "source": [
        "df_train.isnull().sum()"
      ],
      "execution_count": null,
      "outputs": [
        {
          "output_type": "execute_result",
          "data": {
            "text/plain": [
              "Unnamed: 0                             0\n",
              "id                                     0\n",
              "Gender                                 0\n",
              "Customer Type                          0\n",
              "Age                                    0\n",
              "Type of Travel                         0\n",
              "Class                                  0\n",
              "Flight Distance                        0\n",
              "Inflight wifi service                  0\n",
              "Departure/Arrival time convenient      0\n",
              "Ease of Online booking                 0\n",
              "Gate location                          0\n",
              "Food and drink                         0\n",
              "Online boarding                        0\n",
              "Seat comfort                           0\n",
              "Inflight entertainment                 0\n",
              "On-board service                       0\n",
              "Leg room service                       0\n",
              "Baggage handling                       0\n",
              "Checkin service                        0\n",
              "Inflight service                       0\n",
              "Cleanliness                            0\n",
              "Departure Delay in Minutes             0\n",
              "Arrival Delay in Minutes             310\n",
              "satisfaction                           0\n",
              "dtype: int64"
            ]
          },
          "metadata": {
            "tags": []
          },
          "execution_count": 5
        }
      ]
    },
    {
      "cell_type": "markdown",
      "metadata": {
        "id": "oPVcVXN26l_y"
      },
      "source": [
        "###Mengisi null pada Arrival Delay in Minutes dengan rata rata"
      ]
    },
    {
      "cell_type": "code",
      "metadata": {
        "id": "bK4dCicxz43G",
        "colab": {
          "base_uri": "https://localhost:8080/"
        },
        "outputId": "91f9e439-b0dd-4b61-e37d-d89ea668e680"
      },
      "source": [
        "df_train['Arrival Delay in Minutes'].fillna(df_train['Arrival Delay in Minutes'].mean(), inplace=True)\n",
        "df_train.isna().any()"
      ],
      "execution_count": null,
      "outputs": [
        {
          "output_type": "execute_result",
          "data": {
            "text/plain": [
              "Unnamed: 0                           False\n",
              "id                                   False\n",
              "Gender                               False\n",
              "Customer Type                        False\n",
              "Age                                  False\n",
              "Type of Travel                       False\n",
              "Class                                False\n",
              "Flight Distance                      False\n",
              "Inflight wifi service                False\n",
              "Departure/Arrival time convenient    False\n",
              "Ease of Online booking               False\n",
              "Gate location                        False\n",
              "Food and drink                       False\n",
              "Online boarding                      False\n",
              "Seat comfort                         False\n",
              "Inflight entertainment               False\n",
              "On-board service                     False\n",
              "Leg room service                     False\n",
              "Baggage handling                     False\n",
              "Checkin service                      False\n",
              "Inflight service                     False\n",
              "Cleanliness                          False\n",
              "Departure Delay in Minutes           False\n",
              "Arrival Delay in Minutes             False\n",
              "satisfaction                         False\n",
              "dtype: bool"
            ]
          },
          "metadata": {
            "tags": []
          },
          "execution_count": 6
        }
      ]
    },
    {
      "cell_type": "markdown",
      "metadata": {
        "id": "8_pxHCbN6rxY"
      },
      "source": [
        "###Cek Duplikasi"
      ]
    },
    {
      "cell_type": "code",
      "metadata": {
        "id": "UBCg91eV0Bn2",
        "colab": {
          "base_uri": "https://localhost:8080/"
        },
        "outputId": "c1aba9ce-be6e-49be-8023-03ce7d830060"
      },
      "source": [
        "df_train.duplicated().value_counts()\n",
        "#Tidak ada duplikasi data"
      ],
      "execution_count": null,
      "outputs": [
        {
          "output_type": "execute_result",
          "data": {
            "text/plain": [
              "False    103904\n",
              "dtype: int64"
            ]
          },
          "metadata": {
            "tags": []
          },
          "execution_count": 7
        }
      ]
    },
    {
      "cell_type": "markdown",
      "metadata": {
        "id": "BOcKIjKKFcNn"
      },
      "source": [
        "### Deskripsi data"
      ]
    },
    {
      "cell_type": "code",
      "metadata": {
        "id": "LMI5k3fw0EVv",
        "colab": {
          "base_uri": "https://localhost:8080/",
          "height": 662
        },
        "outputId": "76c787b1-2355-4e51-96f7-121524dec414"
      },
      "source": [
        "df_train.describe().T"
      ],
      "execution_count": null,
      "outputs": [
        {
          "output_type": "execute_result",
          "data": {
            "text/html": [
              "<div>\n",
              "<style scoped>\n",
              "    .dataframe tbody tr th:only-of-type {\n",
              "        vertical-align: middle;\n",
              "    }\n",
              "\n",
              "    .dataframe tbody tr th {\n",
              "        vertical-align: top;\n",
              "    }\n",
              "\n",
              "    .dataframe thead th {\n",
              "        text-align: right;\n",
              "    }\n",
              "</style>\n",
              "<table border=\"1\" class=\"dataframe\">\n",
              "  <thead>\n",
              "    <tr style=\"text-align: right;\">\n",
              "      <th></th>\n",
              "      <th>count</th>\n",
              "      <th>mean</th>\n",
              "      <th>std</th>\n",
              "      <th>min</th>\n",
              "      <th>25%</th>\n",
              "      <th>50%</th>\n",
              "      <th>75%</th>\n",
              "      <th>max</th>\n",
              "    </tr>\n",
              "  </thead>\n",
              "  <tbody>\n",
              "    <tr>\n",
              "      <th>Unnamed: 0</th>\n",
              "      <td>103904.0</td>\n",
              "      <td>51951.500000</td>\n",
              "      <td>29994.645522</td>\n",
              "      <td>0.0</td>\n",
              "      <td>25975.75</td>\n",
              "      <td>51951.5</td>\n",
              "      <td>77927.25</td>\n",
              "      <td>103903.0</td>\n",
              "    </tr>\n",
              "    <tr>\n",
              "      <th>id</th>\n",
              "      <td>103904.0</td>\n",
              "      <td>64924.210502</td>\n",
              "      <td>37463.812252</td>\n",
              "      <td>1.0</td>\n",
              "      <td>32533.75</td>\n",
              "      <td>64856.5</td>\n",
              "      <td>97368.25</td>\n",
              "      <td>129880.0</td>\n",
              "    </tr>\n",
              "    <tr>\n",
              "      <th>Age</th>\n",
              "      <td>103904.0</td>\n",
              "      <td>39.379706</td>\n",
              "      <td>15.114964</td>\n",
              "      <td>7.0</td>\n",
              "      <td>27.00</td>\n",
              "      <td>40.0</td>\n",
              "      <td>51.00</td>\n",
              "      <td>85.0</td>\n",
              "    </tr>\n",
              "    <tr>\n",
              "      <th>Flight Distance</th>\n",
              "      <td>103904.0</td>\n",
              "      <td>1189.448375</td>\n",
              "      <td>997.147281</td>\n",
              "      <td>31.0</td>\n",
              "      <td>414.00</td>\n",
              "      <td>843.0</td>\n",
              "      <td>1743.00</td>\n",
              "      <td>4983.0</td>\n",
              "    </tr>\n",
              "    <tr>\n",
              "      <th>Inflight wifi service</th>\n",
              "      <td>103904.0</td>\n",
              "      <td>2.729683</td>\n",
              "      <td>1.327829</td>\n",
              "      <td>0.0</td>\n",
              "      <td>2.00</td>\n",
              "      <td>3.0</td>\n",
              "      <td>4.00</td>\n",
              "      <td>5.0</td>\n",
              "    </tr>\n",
              "    <tr>\n",
              "      <th>Departure/Arrival time convenient</th>\n",
              "      <td>103904.0</td>\n",
              "      <td>3.060296</td>\n",
              "      <td>1.525075</td>\n",
              "      <td>0.0</td>\n",
              "      <td>2.00</td>\n",
              "      <td>3.0</td>\n",
              "      <td>4.00</td>\n",
              "      <td>5.0</td>\n",
              "    </tr>\n",
              "    <tr>\n",
              "      <th>Ease of Online booking</th>\n",
              "      <td>103904.0</td>\n",
              "      <td>2.756901</td>\n",
              "      <td>1.398929</td>\n",
              "      <td>0.0</td>\n",
              "      <td>2.00</td>\n",
              "      <td>3.0</td>\n",
              "      <td>4.00</td>\n",
              "      <td>5.0</td>\n",
              "    </tr>\n",
              "    <tr>\n",
              "      <th>Gate location</th>\n",
              "      <td>103904.0</td>\n",
              "      <td>2.976883</td>\n",
              "      <td>1.277621</td>\n",
              "      <td>0.0</td>\n",
              "      <td>2.00</td>\n",
              "      <td>3.0</td>\n",
              "      <td>4.00</td>\n",
              "      <td>5.0</td>\n",
              "    </tr>\n",
              "    <tr>\n",
              "      <th>Food and drink</th>\n",
              "      <td>103904.0</td>\n",
              "      <td>3.202129</td>\n",
              "      <td>1.329533</td>\n",
              "      <td>0.0</td>\n",
              "      <td>2.00</td>\n",
              "      <td>3.0</td>\n",
              "      <td>4.00</td>\n",
              "      <td>5.0</td>\n",
              "    </tr>\n",
              "    <tr>\n",
              "      <th>Online boarding</th>\n",
              "      <td>103904.0</td>\n",
              "      <td>3.250375</td>\n",
              "      <td>1.349509</td>\n",
              "      <td>0.0</td>\n",
              "      <td>2.00</td>\n",
              "      <td>3.0</td>\n",
              "      <td>4.00</td>\n",
              "      <td>5.0</td>\n",
              "    </tr>\n",
              "    <tr>\n",
              "      <th>Seat comfort</th>\n",
              "      <td>103904.0</td>\n",
              "      <td>3.439396</td>\n",
              "      <td>1.319088</td>\n",
              "      <td>0.0</td>\n",
              "      <td>2.00</td>\n",
              "      <td>4.0</td>\n",
              "      <td>5.00</td>\n",
              "      <td>5.0</td>\n",
              "    </tr>\n",
              "    <tr>\n",
              "      <th>Inflight entertainment</th>\n",
              "      <td>103904.0</td>\n",
              "      <td>3.358158</td>\n",
              "      <td>1.332991</td>\n",
              "      <td>0.0</td>\n",
              "      <td>2.00</td>\n",
              "      <td>4.0</td>\n",
              "      <td>4.00</td>\n",
              "      <td>5.0</td>\n",
              "    </tr>\n",
              "    <tr>\n",
              "      <th>On-board service</th>\n",
              "      <td>103904.0</td>\n",
              "      <td>3.382363</td>\n",
              "      <td>1.288354</td>\n",
              "      <td>0.0</td>\n",
              "      <td>2.00</td>\n",
              "      <td>4.0</td>\n",
              "      <td>4.00</td>\n",
              "      <td>5.0</td>\n",
              "    </tr>\n",
              "    <tr>\n",
              "      <th>Leg room service</th>\n",
              "      <td>103904.0</td>\n",
              "      <td>3.351055</td>\n",
              "      <td>1.315605</td>\n",
              "      <td>0.0</td>\n",
              "      <td>2.00</td>\n",
              "      <td>4.0</td>\n",
              "      <td>4.00</td>\n",
              "      <td>5.0</td>\n",
              "    </tr>\n",
              "    <tr>\n",
              "      <th>Baggage handling</th>\n",
              "      <td>103904.0</td>\n",
              "      <td>3.631833</td>\n",
              "      <td>1.180903</td>\n",
              "      <td>1.0</td>\n",
              "      <td>3.00</td>\n",
              "      <td>4.0</td>\n",
              "      <td>5.00</td>\n",
              "      <td>5.0</td>\n",
              "    </tr>\n",
              "    <tr>\n",
              "      <th>Checkin service</th>\n",
              "      <td>103904.0</td>\n",
              "      <td>3.304290</td>\n",
              "      <td>1.265396</td>\n",
              "      <td>0.0</td>\n",
              "      <td>3.00</td>\n",
              "      <td>3.0</td>\n",
              "      <td>4.00</td>\n",
              "      <td>5.0</td>\n",
              "    </tr>\n",
              "    <tr>\n",
              "      <th>Inflight service</th>\n",
              "      <td>103904.0</td>\n",
              "      <td>3.640428</td>\n",
              "      <td>1.175663</td>\n",
              "      <td>0.0</td>\n",
              "      <td>3.00</td>\n",
              "      <td>4.0</td>\n",
              "      <td>5.00</td>\n",
              "      <td>5.0</td>\n",
              "    </tr>\n",
              "    <tr>\n",
              "      <th>Cleanliness</th>\n",
              "      <td>103904.0</td>\n",
              "      <td>3.286351</td>\n",
              "      <td>1.312273</td>\n",
              "      <td>0.0</td>\n",
              "      <td>2.00</td>\n",
              "      <td>3.0</td>\n",
              "      <td>4.00</td>\n",
              "      <td>5.0</td>\n",
              "    </tr>\n",
              "    <tr>\n",
              "      <th>Departure Delay in Minutes</th>\n",
              "      <td>103904.0</td>\n",
              "      <td>14.815618</td>\n",
              "      <td>38.230901</td>\n",
              "      <td>0.0</td>\n",
              "      <td>0.00</td>\n",
              "      <td>0.0</td>\n",
              "      <td>12.00</td>\n",
              "      <td>1592.0</td>\n",
              "    </tr>\n",
              "    <tr>\n",
              "      <th>Arrival Delay in Minutes</th>\n",
              "      <td>103904.0</td>\n",
              "      <td>15.178678</td>\n",
              "      <td>38.640909</td>\n",
              "      <td>0.0</td>\n",
              "      <td>0.00</td>\n",
              "      <td>0.0</td>\n",
              "      <td>13.00</td>\n",
              "      <td>1584.0</td>\n",
              "    </tr>\n",
              "  </tbody>\n",
              "</table>\n",
              "</div>"
            ],
            "text/plain": [
              "                                      count          mean  ...       75%       max\n",
              "Unnamed: 0                         103904.0  51951.500000  ...  77927.25  103903.0\n",
              "id                                 103904.0  64924.210502  ...  97368.25  129880.0\n",
              "Age                                103904.0     39.379706  ...     51.00      85.0\n",
              "Flight Distance                    103904.0   1189.448375  ...   1743.00    4983.0\n",
              "Inflight wifi service              103904.0      2.729683  ...      4.00       5.0\n",
              "Departure/Arrival time convenient  103904.0      3.060296  ...      4.00       5.0\n",
              "Ease of Online booking             103904.0      2.756901  ...      4.00       5.0\n",
              "Gate location                      103904.0      2.976883  ...      4.00       5.0\n",
              "Food and drink                     103904.0      3.202129  ...      4.00       5.0\n",
              "Online boarding                    103904.0      3.250375  ...      4.00       5.0\n",
              "Seat comfort                       103904.0      3.439396  ...      5.00       5.0\n",
              "Inflight entertainment             103904.0      3.358158  ...      4.00       5.0\n",
              "On-board service                   103904.0      3.382363  ...      4.00       5.0\n",
              "Leg room service                   103904.0      3.351055  ...      4.00       5.0\n",
              "Baggage handling                   103904.0      3.631833  ...      5.00       5.0\n",
              "Checkin service                    103904.0      3.304290  ...      4.00       5.0\n",
              "Inflight service                   103904.0      3.640428  ...      5.00       5.0\n",
              "Cleanliness                        103904.0      3.286351  ...      4.00       5.0\n",
              "Departure Delay in Minutes         103904.0     14.815618  ...     12.00    1592.0\n",
              "Arrival Delay in Minutes           103904.0     15.178678  ...     13.00    1584.0\n",
              "\n",
              "[20 rows x 8 columns]"
            ]
          },
          "metadata": {
            "tags": []
          },
          "execution_count": 8
        }
      ]
    },
    {
      "cell_type": "markdown",
      "metadata": {
        "id": "hop3kPtQFiAx"
      },
      "source": [
        "### Korelasi data"
      ]
    },
    {
      "cell_type": "code",
      "metadata": {
        "id": "9BDabEy_0I46",
        "colab": {
          "base_uri": "https://localhost:8080/",
          "height": 873
        },
        "outputId": "7ba1efe4-e953-4624-9b15-25b8d7d69b2f"
      },
      "source": [
        "df_train.corr()"
      ],
      "execution_count": null,
      "outputs": [
        {
          "output_type": "execute_result",
          "data": {
            "text/html": [
              "<div>\n",
              "<style scoped>\n",
              "    .dataframe tbody tr th:only-of-type {\n",
              "        vertical-align: middle;\n",
              "    }\n",
              "\n",
              "    .dataframe tbody tr th {\n",
              "        vertical-align: top;\n",
              "    }\n",
              "\n",
              "    .dataframe thead th {\n",
              "        text-align: right;\n",
              "    }\n",
              "</style>\n",
              "<table border=\"1\" class=\"dataframe\">\n",
              "  <thead>\n",
              "    <tr style=\"text-align: right;\">\n",
              "      <th></th>\n",
              "      <th>Unnamed: 0</th>\n",
              "      <th>id</th>\n",
              "      <th>Age</th>\n",
              "      <th>Flight Distance</th>\n",
              "      <th>Inflight wifi service</th>\n",
              "      <th>Departure/Arrival time convenient</th>\n",
              "      <th>Ease of Online booking</th>\n",
              "      <th>Gate location</th>\n",
              "      <th>Food and drink</th>\n",
              "      <th>Online boarding</th>\n",
              "      <th>Seat comfort</th>\n",
              "      <th>Inflight entertainment</th>\n",
              "      <th>On-board service</th>\n",
              "      <th>Leg room service</th>\n",
              "      <th>Baggage handling</th>\n",
              "      <th>Checkin service</th>\n",
              "      <th>Inflight service</th>\n",
              "      <th>Cleanliness</th>\n",
              "      <th>Departure Delay in Minutes</th>\n",
              "      <th>Arrival Delay in Minutes</th>\n",
              "    </tr>\n",
              "  </thead>\n",
              "  <tbody>\n",
              "    <tr>\n",
              "      <th>Unnamed: 0</th>\n",
              "      <td>1.000000</td>\n",
              "      <td>0.002991</td>\n",
              "      <td>0.004786</td>\n",
              "      <td>0.002794</td>\n",
              "      <td>-0.002490</td>\n",
              "      <td>0.000739</td>\n",
              "      <td>0.001913</td>\n",
              "      <td>0.005073</td>\n",
              "      <td>-0.002162</td>\n",
              "      <td>0.001002</td>\n",
              "      <td>0.000044</td>\n",
              "      <td>0.001363</td>\n",
              "      <td>0.000813</td>\n",
              "      <td>0.004052</td>\n",
              "      <td>-0.000526</td>\n",
              "      <td>-0.004321</td>\n",
              "      <td>-0.000134</td>\n",
              "      <td>-0.001117</td>\n",
              "      <td>-0.000045</td>\n",
              "      <td>-0.000045</td>\n",
              "    </tr>\n",
              "    <tr>\n",
              "      <th>id</th>\n",
              "      <td>0.002991</td>\n",
              "      <td>1.000000</td>\n",
              "      <td>0.022857</td>\n",
              "      <td>0.095544</td>\n",
              "      <td>-0.021276</td>\n",
              "      <td>-0.002110</td>\n",
              "      <td>0.014163</td>\n",
              "      <td>-0.000606</td>\n",
              "      <td>0.001063</td>\n",
              "      <td>0.055477</td>\n",
              "      <td>0.052903</td>\n",
              "      <td>0.002300</td>\n",
              "      <td>0.055241</td>\n",
              "      <td>0.044634</td>\n",
              "      <td>0.074940</td>\n",
              "      <td>0.079273</td>\n",
              "      <td>0.079346</td>\n",
              "      <td>0.024965</td>\n",
              "      <td>-0.019546</td>\n",
              "      <td>-0.037196</td>\n",
              "    </tr>\n",
              "    <tr>\n",
              "      <th>Age</th>\n",
              "      <td>0.004786</td>\n",
              "      <td>0.022857</td>\n",
              "      <td>1.000000</td>\n",
              "      <td>0.099461</td>\n",
              "      <td>0.017859</td>\n",
              "      <td>0.038125</td>\n",
              "      <td>0.024842</td>\n",
              "      <td>-0.001330</td>\n",
              "      <td>0.023000</td>\n",
              "      <td>0.208939</td>\n",
              "      <td>0.160277</td>\n",
              "      <td>0.076444</td>\n",
              "      <td>0.057594</td>\n",
              "      <td>0.040583</td>\n",
              "      <td>-0.047529</td>\n",
              "      <td>0.035482</td>\n",
              "      <td>-0.049427</td>\n",
              "      <td>0.053611</td>\n",
              "      <td>-0.010152</td>\n",
              "      <td>-0.012127</td>\n",
              "    </tr>\n",
              "    <tr>\n",
              "      <th>Flight Distance</th>\n",
              "      <td>0.002794</td>\n",
              "      <td>0.095544</td>\n",
              "      <td>0.099461</td>\n",
              "      <td>1.000000</td>\n",
              "      <td>0.007131</td>\n",
              "      <td>-0.020043</td>\n",
              "      <td>0.065717</td>\n",
              "      <td>0.004793</td>\n",
              "      <td>0.056994</td>\n",
              "      <td>0.214869</td>\n",
              "      <td>0.157333</td>\n",
              "      <td>0.128740</td>\n",
              "      <td>0.109526</td>\n",
              "      <td>0.133916</td>\n",
              "      <td>0.063184</td>\n",
              "      <td>0.073072</td>\n",
              "      <td>0.057540</td>\n",
              "      <td>0.093149</td>\n",
              "      <td>0.002158</td>\n",
              "      <td>-0.002423</td>\n",
              "    </tr>\n",
              "    <tr>\n",
              "      <th>Inflight wifi service</th>\n",
              "      <td>-0.002490</td>\n",
              "      <td>-0.021276</td>\n",
              "      <td>0.017859</td>\n",
              "      <td>0.007131</td>\n",
              "      <td>1.000000</td>\n",
              "      <td>0.343845</td>\n",
              "      <td>0.715856</td>\n",
              "      <td>0.336248</td>\n",
              "      <td>0.134718</td>\n",
              "      <td>0.456970</td>\n",
              "      <td>0.122658</td>\n",
              "      <td>0.209321</td>\n",
              "      <td>0.121500</td>\n",
              "      <td>0.160473</td>\n",
              "      <td>0.120923</td>\n",
              "      <td>0.043193</td>\n",
              "      <td>0.110441</td>\n",
              "      <td>0.132698</td>\n",
              "      <td>-0.017402</td>\n",
              "      <td>-0.019067</td>\n",
              "    </tr>\n",
              "    <tr>\n",
              "      <th>Departure/Arrival time convenient</th>\n",
              "      <td>0.000739</td>\n",
              "      <td>-0.002110</td>\n",
              "      <td>0.038125</td>\n",
              "      <td>-0.020043</td>\n",
              "      <td>0.343845</td>\n",
              "      <td>1.000000</td>\n",
              "      <td>0.436961</td>\n",
              "      <td>0.444757</td>\n",
              "      <td>0.004906</td>\n",
              "      <td>0.070119</td>\n",
              "      <td>0.011344</td>\n",
              "      <td>-0.004861</td>\n",
              "      <td>0.068882</td>\n",
              "      <td>0.012441</td>\n",
              "      <td>0.072126</td>\n",
              "      <td>0.093333</td>\n",
              "      <td>0.073318</td>\n",
              "      <td>0.014292</td>\n",
              "      <td>0.001005</td>\n",
              "      <td>-0.000863</td>\n",
              "    </tr>\n",
              "    <tr>\n",
              "      <th>Ease of Online booking</th>\n",
              "      <td>0.001913</td>\n",
              "      <td>0.014163</td>\n",
              "      <td>0.024842</td>\n",
              "      <td>0.065717</td>\n",
              "      <td>0.715856</td>\n",
              "      <td>0.436961</td>\n",
              "      <td>1.000000</td>\n",
              "      <td>0.458655</td>\n",
              "      <td>0.031873</td>\n",
              "      <td>0.404074</td>\n",
              "      <td>0.030014</td>\n",
              "      <td>0.047032</td>\n",
              "      <td>0.038833</td>\n",
              "      <td>0.107601</td>\n",
              "      <td>0.038762</td>\n",
              "      <td>0.011081</td>\n",
              "      <td>0.035272</td>\n",
              "      <td>0.016179</td>\n",
              "      <td>-0.006371</td>\n",
              "      <td>-0.007972</td>\n",
              "    </tr>\n",
              "    <tr>\n",
              "      <th>Gate location</th>\n",
              "      <td>0.005073</td>\n",
              "      <td>-0.000606</td>\n",
              "      <td>-0.001330</td>\n",
              "      <td>0.004793</td>\n",
              "      <td>0.336248</td>\n",
              "      <td>0.444757</td>\n",
              "      <td>0.458655</td>\n",
              "      <td>1.000000</td>\n",
              "      <td>-0.001159</td>\n",
              "      <td>0.001688</td>\n",
              "      <td>0.003669</td>\n",
              "      <td>0.003517</td>\n",
              "      <td>-0.028373</td>\n",
              "      <td>-0.005873</td>\n",
              "      <td>0.002313</td>\n",
              "      <td>-0.035427</td>\n",
              "      <td>0.001681</td>\n",
              "      <td>-0.003830</td>\n",
              "      <td>0.005467</td>\n",
              "      <td>0.005136</td>\n",
              "    </tr>\n",
              "    <tr>\n",
              "      <th>Food and drink</th>\n",
              "      <td>-0.002162</td>\n",
              "      <td>0.001063</td>\n",
              "      <td>0.023000</td>\n",
              "      <td>0.056994</td>\n",
              "      <td>0.134718</td>\n",
              "      <td>0.004906</td>\n",
              "      <td>0.031873</td>\n",
              "      <td>-0.001159</td>\n",
              "      <td>1.000000</td>\n",
              "      <td>0.234468</td>\n",
              "      <td>0.574556</td>\n",
              "      <td>0.622512</td>\n",
              "      <td>0.059073</td>\n",
              "      <td>0.032498</td>\n",
              "      <td>0.034746</td>\n",
              "      <td>0.087299</td>\n",
              "      <td>0.033993</td>\n",
              "      <td>0.657760</td>\n",
              "      <td>-0.029926</td>\n",
              "      <td>-0.032472</td>\n",
              "    </tr>\n",
              "    <tr>\n",
              "      <th>Online boarding</th>\n",
              "      <td>0.001002</td>\n",
              "      <td>0.055477</td>\n",
              "      <td>0.208939</td>\n",
              "      <td>0.214869</td>\n",
              "      <td>0.456970</td>\n",
              "      <td>0.070119</td>\n",
              "      <td>0.404074</td>\n",
              "      <td>0.001688</td>\n",
              "      <td>0.234468</td>\n",
              "      <td>1.000000</td>\n",
              "      <td>0.420211</td>\n",
              "      <td>0.285066</td>\n",
              "      <td>0.155443</td>\n",
              "      <td>0.123950</td>\n",
              "      <td>0.083280</td>\n",
              "      <td>0.204462</td>\n",
              "      <td>0.074573</td>\n",
              "      <td>0.331517</td>\n",
              "      <td>-0.018982</td>\n",
              "      <td>-0.021915</td>\n",
              "    </tr>\n",
              "    <tr>\n",
              "      <th>Seat comfort</th>\n",
              "      <td>0.000044</td>\n",
              "      <td>0.052903</td>\n",
              "      <td>0.160277</td>\n",
              "      <td>0.157333</td>\n",
              "      <td>0.122658</td>\n",
              "      <td>0.011344</td>\n",
              "      <td>0.030014</td>\n",
              "      <td>0.003669</td>\n",
              "      <td>0.574556</td>\n",
              "      <td>0.420211</td>\n",
              "      <td>1.000000</td>\n",
              "      <td>0.610590</td>\n",
              "      <td>0.131971</td>\n",
              "      <td>0.105559</td>\n",
              "      <td>0.074542</td>\n",
              "      <td>0.191854</td>\n",
              "      <td>0.069218</td>\n",
              "      <td>0.678534</td>\n",
              "      <td>-0.027898</td>\n",
              "      <td>-0.029851</td>\n",
              "    </tr>\n",
              "    <tr>\n",
              "      <th>Inflight entertainment</th>\n",
              "      <td>0.001363</td>\n",
              "      <td>0.002300</td>\n",
              "      <td>0.076444</td>\n",
              "      <td>0.128740</td>\n",
              "      <td>0.209321</td>\n",
              "      <td>-0.004861</td>\n",
              "      <td>0.047032</td>\n",
              "      <td>0.003517</td>\n",
              "      <td>0.622512</td>\n",
              "      <td>0.285066</td>\n",
              "      <td>0.610590</td>\n",
              "      <td>1.000000</td>\n",
              "      <td>0.420153</td>\n",
              "      <td>0.299692</td>\n",
              "      <td>0.378210</td>\n",
              "      <td>0.120867</td>\n",
              "      <td>0.404855</td>\n",
              "      <td>0.691815</td>\n",
              "      <td>-0.027489</td>\n",
              "      <td>-0.030658</td>\n",
              "    </tr>\n",
              "    <tr>\n",
              "      <th>On-board service</th>\n",
              "      <td>0.000813</td>\n",
              "      <td>0.055241</td>\n",
              "      <td>0.057594</td>\n",
              "      <td>0.109526</td>\n",
              "      <td>0.121500</td>\n",
              "      <td>0.068882</td>\n",
              "      <td>0.038833</td>\n",
              "      <td>-0.028373</td>\n",
              "      <td>0.059073</td>\n",
              "      <td>0.155443</td>\n",
              "      <td>0.131971</td>\n",
              "      <td>0.420153</td>\n",
              "      <td>1.000000</td>\n",
              "      <td>0.355495</td>\n",
              "      <td>0.519134</td>\n",
              "      <td>0.243914</td>\n",
              "      <td>0.550782</td>\n",
              "      <td>0.123220</td>\n",
              "      <td>-0.031569</td>\n",
              "      <td>-0.035172</td>\n",
              "    </tr>\n",
              "    <tr>\n",
              "      <th>Leg room service</th>\n",
              "      <td>0.004052</td>\n",
              "      <td>0.044634</td>\n",
              "      <td>0.040583</td>\n",
              "      <td>0.133916</td>\n",
              "      <td>0.160473</td>\n",
              "      <td>0.012441</td>\n",
              "      <td>0.107601</td>\n",
              "      <td>-0.005873</td>\n",
              "      <td>0.032498</td>\n",
              "      <td>0.123950</td>\n",
              "      <td>0.105559</td>\n",
              "      <td>0.299692</td>\n",
              "      <td>0.355495</td>\n",
              "      <td>1.000000</td>\n",
              "      <td>0.369544</td>\n",
              "      <td>0.153137</td>\n",
              "      <td>0.368656</td>\n",
              "      <td>0.096370</td>\n",
              "      <td>0.014363</td>\n",
              "      <td>0.011824</td>\n",
              "    </tr>\n",
              "    <tr>\n",
              "      <th>Baggage handling</th>\n",
              "      <td>-0.000526</td>\n",
              "      <td>0.074940</td>\n",
              "      <td>-0.047529</td>\n",
              "      <td>0.063184</td>\n",
              "      <td>0.120923</td>\n",
              "      <td>0.072126</td>\n",
              "      <td>0.038762</td>\n",
              "      <td>0.002313</td>\n",
              "      <td>0.034746</td>\n",
              "      <td>0.083280</td>\n",
              "      <td>0.074542</td>\n",
              "      <td>0.378210</td>\n",
              "      <td>0.519134</td>\n",
              "      <td>0.369544</td>\n",
              "      <td>1.000000</td>\n",
              "      <td>0.233122</td>\n",
              "      <td>0.628561</td>\n",
              "      <td>0.095793</td>\n",
              "      <td>-0.005573</td>\n",
              "      <td>-0.008530</td>\n",
              "    </tr>\n",
              "    <tr>\n",
              "      <th>Checkin service</th>\n",
              "      <td>-0.004321</td>\n",
              "      <td>0.079273</td>\n",
              "      <td>0.035482</td>\n",
              "      <td>0.073072</td>\n",
              "      <td>0.043193</td>\n",
              "      <td>0.093333</td>\n",
              "      <td>0.011081</td>\n",
              "      <td>-0.035427</td>\n",
              "      <td>0.087299</td>\n",
              "      <td>0.204462</td>\n",
              "      <td>0.191854</td>\n",
              "      <td>0.120867</td>\n",
              "      <td>0.243914</td>\n",
              "      <td>0.153137</td>\n",
              "      <td>0.233122</td>\n",
              "      <td>1.000000</td>\n",
              "      <td>0.237197</td>\n",
              "      <td>0.179583</td>\n",
              "      <td>-0.018453</td>\n",
              "      <td>-0.020339</td>\n",
              "    </tr>\n",
              "    <tr>\n",
              "      <th>Inflight service</th>\n",
              "      <td>-0.000134</td>\n",
              "      <td>0.079346</td>\n",
              "      <td>-0.049427</td>\n",
              "      <td>0.057540</td>\n",
              "      <td>0.110441</td>\n",
              "      <td>0.073318</td>\n",
              "      <td>0.035272</td>\n",
              "      <td>0.001681</td>\n",
              "      <td>0.033993</td>\n",
              "      <td>0.074573</td>\n",
              "      <td>0.069218</td>\n",
              "      <td>0.404855</td>\n",
              "      <td>0.550782</td>\n",
              "      <td>0.368656</td>\n",
              "      <td>0.628561</td>\n",
              "      <td>0.237197</td>\n",
              "      <td>1.000000</td>\n",
              "      <td>0.088779</td>\n",
              "      <td>-0.054813</td>\n",
              "      <td>-0.059104</td>\n",
              "    </tr>\n",
              "    <tr>\n",
              "      <th>Cleanliness</th>\n",
              "      <td>-0.001117</td>\n",
              "      <td>0.024965</td>\n",
              "      <td>0.053611</td>\n",
              "      <td>0.093149</td>\n",
              "      <td>0.132698</td>\n",
              "      <td>0.014292</td>\n",
              "      <td>0.016179</td>\n",
              "      <td>-0.003830</td>\n",
              "      <td>0.657760</td>\n",
              "      <td>0.331517</td>\n",
              "      <td>0.678534</td>\n",
              "      <td>0.691815</td>\n",
              "      <td>0.123220</td>\n",
              "      <td>0.096370</td>\n",
              "      <td>0.095793</td>\n",
              "      <td>0.179583</td>\n",
              "      <td>0.088779</td>\n",
              "      <td>1.000000</td>\n",
              "      <td>-0.014093</td>\n",
              "      <td>-0.015749</td>\n",
              "    </tr>\n",
              "    <tr>\n",
              "      <th>Departure Delay in Minutes</th>\n",
              "      <td>-0.000045</td>\n",
              "      <td>-0.019546</td>\n",
              "      <td>-0.010152</td>\n",
              "      <td>0.002158</td>\n",
              "      <td>-0.017402</td>\n",
              "      <td>0.001005</td>\n",
              "      <td>-0.006371</td>\n",
              "      <td>0.005467</td>\n",
              "      <td>-0.029926</td>\n",
              "      <td>-0.018982</td>\n",
              "      <td>-0.027898</td>\n",
              "      <td>-0.027489</td>\n",
              "      <td>-0.031569</td>\n",
              "      <td>0.014363</td>\n",
              "      <td>-0.005573</td>\n",
              "      <td>-0.018453</td>\n",
              "      <td>-0.054813</td>\n",
              "      <td>-0.014093</td>\n",
              "      <td>1.000000</td>\n",
              "      <td>0.961161</td>\n",
              "    </tr>\n",
              "    <tr>\n",
              "      <th>Arrival Delay in Minutes</th>\n",
              "      <td>-0.000045</td>\n",
              "      <td>-0.037196</td>\n",
              "      <td>-0.012127</td>\n",
              "      <td>-0.002423</td>\n",
              "      <td>-0.019067</td>\n",
              "      <td>-0.000863</td>\n",
              "      <td>-0.007972</td>\n",
              "      <td>0.005136</td>\n",
              "      <td>-0.032472</td>\n",
              "      <td>-0.021915</td>\n",
              "      <td>-0.029851</td>\n",
              "      <td>-0.030658</td>\n",
              "      <td>-0.035172</td>\n",
              "      <td>0.011824</td>\n",
              "      <td>-0.008530</td>\n",
              "      <td>-0.020339</td>\n",
              "      <td>-0.059104</td>\n",
              "      <td>-0.015749</td>\n",
              "      <td>0.961161</td>\n",
              "      <td>1.000000</td>\n",
              "    </tr>\n",
              "  </tbody>\n",
              "</table>\n",
              "</div>"
            ],
            "text/plain": [
              "                                   Unnamed: 0  ...  Arrival Delay in Minutes\n",
              "Unnamed: 0                           1.000000  ...                 -0.000045\n",
              "id                                   0.002991  ...                 -0.037196\n",
              "Age                                  0.004786  ...                 -0.012127\n",
              "Flight Distance                      0.002794  ...                 -0.002423\n",
              "Inflight wifi service               -0.002490  ...                 -0.019067\n",
              "Departure/Arrival time convenient    0.000739  ...                 -0.000863\n",
              "Ease of Online booking               0.001913  ...                 -0.007972\n",
              "Gate location                        0.005073  ...                  0.005136\n",
              "Food and drink                      -0.002162  ...                 -0.032472\n",
              "Online boarding                      0.001002  ...                 -0.021915\n",
              "Seat comfort                         0.000044  ...                 -0.029851\n",
              "Inflight entertainment               0.001363  ...                 -0.030658\n",
              "On-board service                     0.000813  ...                 -0.035172\n",
              "Leg room service                     0.004052  ...                  0.011824\n",
              "Baggage handling                    -0.000526  ...                 -0.008530\n",
              "Checkin service                     -0.004321  ...                 -0.020339\n",
              "Inflight service                    -0.000134  ...                 -0.059104\n",
              "Cleanliness                         -0.001117  ...                 -0.015749\n",
              "Departure Delay in Minutes          -0.000045  ...                  0.961161\n",
              "Arrival Delay in Minutes            -0.000045  ...                  1.000000\n",
              "\n",
              "[20 rows x 20 columns]"
            ]
          },
          "metadata": {
            "tags": []
          },
          "execution_count": 9
        }
      ]
    },
    {
      "cell_type": "code",
      "metadata": {
        "id": "1IlB-g0v0Mv7",
        "colab": {
          "base_uri": "https://localhost:8080/",
          "height": 771
        },
        "outputId": "33834890-c66b-4b11-93fa-f90485041886"
      },
      "source": [
        "plt.figure(figsize=(12,10))\n",
        "sns.heatmap(df_train.corr(), cmap='coolwarm', annot=True, linewidth=0.6, fmt='.1f', square=True, robust=True)"
      ],
      "execution_count": null,
      "outputs": [
        {
          "output_type": "execute_result",
          "data": {
            "text/plain": [
              "<matplotlib.axes._subplots.AxesSubplot at 0x7fad7b9b9150>"
            ]
          },
          "metadata": {
            "tags": []
          },
          "execution_count": 10
        },
        {
          "output_type": "display_data",
          "data": {
            "image/png": "[encoded data removed]",
            "text/plain": [
              "<Figure size 864x720 with 2 Axes>"
            ]
          },
          "metadata": {
            "tags": [],
            "needs_background": "light"
          }
        }
      ]
    },
    {
      "cell_type": "markdown",
      "metadata": {
        "id": "PMP1UwWX6wqf"
      },
      "source": [
        "### Drop data yang tidak diperlukan (Kolom unnamed & id)"
      ]
    },
    {
      "cell_type": "code",
      "metadata": {
        "id": "co2UCChRz-EF",
        "colab": {
          "base_uri": "https://localhost:8080/",
          "height": 661
        },
        "outputId": "d8f2ed7b-0bb6-4ec0-82fe-094339bc69e3"
      },
      "source": [
        "df_train.drop(['Unnamed: 0','id'],axis=1, inplace=True)\n",
        "df_train"
      ],
      "execution_count": null,
      "outputs": [
        {
          "output_type": "execute_result",
          "data": {
            "text/html": [
              "<div>\n",
              "<style scoped>\n",
              "    .dataframe tbody tr th:only-of-type {\n",
              "        vertical-align: middle;\n",
              "    }\n",
              "\n",
              "    .dataframe tbody tr th {\n",
              "        vertical-align: top;\n",
              "    }\n",
              "\n",
              "    .dataframe thead th {\n",
              "        text-align: right;\n",
              "    }\n",
              "</style>\n",
              "<table border=\"1\" class=\"dataframe\">\n",
              "  <thead>\n",
              "    <tr style=\"text-align: right;\">\n",
              "      <th></th>\n",
              "      <th>Gender</th>\n",
              "      <th>Customer Type</th>\n",
              "      <th>Age</th>\n",
              "      <th>Type of Travel</th>\n",
              "      <th>Class</th>\n",
              "      <th>Flight Distance</th>\n",
              "      <th>Inflight wifi service</th>\n",
              "      <th>Departure/Arrival time convenient</th>\n",
              "      <th>Ease of Online booking</th>\n",
              "      <th>Gate location</th>\n",
              "      <th>Food and drink</th>\n",
              "      <th>Online boarding</th>\n",
              "      <th>Seat comfort</th>\n",
              "      <th>Inflight entertainment</th>\n",
              "      <th>On-board service</th>\n",
              "      <th>Leg room service</th>\n",
              "      <th>Baggage handling</th>\n",
              "      <th>Checkin service</th>\n",
              "      <th>Inflight service</th>\n",
              "      <th>Cleanliness</th>\n",
              "      <th>Departure Delay in Minutes</th>\n",
              "      <th>Arrival Delay in Minutes</th>\n",
              "      <th>satisfaction</th>\n",
              "    </tr>\n",
              "  </thead>\n",
              "  <tbody>\n",
              "    <tr>\n",
              "      <th>0</th>\n",
              "      <td>Male</td>\n",
              "      <td>Loyal Customer</td>\n",
              "      <td>13</td>\n",
              "      <td>Personal Travel</td>\n",
              "      <td>Eco Plus</td>\n",
              "      <td>460</td>\n",
              "      <td>3</td>\n",
              "      <td>4</td>\n",
              "      <td>3</td>\n",
              "      <td>1</td>\n",
              "      <td>5</td>\n",
              "      <td>3</td>\n",
              "      <td>5</td>\n",
              "      <td>5</td>\n",
              "      <td>4</td>\n",
              "      <td>3</td>\n",
              "      <td>4</td>\n",
              "      <td>4</td>\n",
              "      <td>5</td>\n",
              "      <td>5</td>\n",
              "      <td>25</td>\n",
              "      <td>18.0</td>\n",
              "      <td>neutral or dissatisfied</td>\n",
              "    </tr>\n",
              "    <tr>\n",
              "      <th>1</th>\n",
              "      <td>Male</td>\n",
              "      <td>disloyal Customer</td>\n",
              "      <td>25</td>\n",
              "      <td>Business travel</td>\n",
              "      <td>Business</td>\n",
              "      <td>235</td>\n",
              "      <td>3</td>\n",
              "      <td>2</td>\n",
              "      <td>3</td>\n",
              "      <td>3</td>\n",
              "      <td>1</td>\n",
              "      <td>3</td>\n",
              "      <td>1</td>\n",
              "      <td>1</td>\n",
              "      <td>1</td>\n",
              "      <td>5</td>\n",
              "      <td>3</td>\n",
              "      <td>1</td>\n",
              "      <td>4</td>\n",
              "      <td>1</td>\n",
              "      <td>1</td>\n",
              "      <td>6.0</td>\n",
              "      <td>neutral or dissatisfied</td>\n",
              "    </tr>\n",
              "    <tr>\n",
              "      <th>2</th>\n",
              "      <td>Female</td>\n",
              "      <td>Loyal Customer</td>\n",
              "      <td>26</td>\n",
              "      <td>Business travel</td>\n",
              "      <td>Business</td>\n",
              "      <td>1142</td>\n",
              "      <td>2</td>\n",
              "      <td>2</td>\n",
              "      <td>2</td>\n",
              "      <td>2</td>\n",
              "      <td>5</td>\n",
              "      <td>5</td>\n",
              "      <td>5</td>\n",
              "      <td>5</td>\n",
              "      <td>4</td>\n",
              "      <td>3</td>\n",
              "      <td>4</td>\n",
              "      <td>4</td>\n",
              "      <td>4</td>\n",
              "      <td>5</td>\n",
              "      <td>0</td>\n",
              "      <td>0.0</td>\n",
              "      <td>satisfied</td>\n",
              "    </tr>\n",
              "    <tr>\n",
              "      <th>3</th>\n",
              "      <td>Female</td>\n",
              "      <td>Loyal Customer</td>\n",
              "      <td>25</td>\n",
              "      <td>Business travel</td>\n",
              "      <td>Business</td>\n",
              "      <td>562</td>\n",
              "      <td>2</td>\n",
              "      <td>5</td>\n",
              "      <td>5</td>\n",
              "      <td>5</td>\n",
              "      <td>2</td>\n",
              "      <td>2</td>\n",
              "      <td>2</td>\n",
              "      <td>2</td>\n",
              "      <td>2</td>\n",
              "      <td>5</td>\n",
              "      <td>3</td>\n",
              "      <td>1</td>\n",
              "      <td>4</td>\n",
              "      <td>2</td>\n",
              "      <td>11</td>\n",
              "      <td>9.0</td>\n",
              "      <td>neutral or dissatisfied</td>\n",
              "    </tr>\n",
              "    <tr>\n",
              "      <th>4</th>\n",
              "      <td>Male</td>\n",
              "      <td>Loyal Customer</td>\n",
              "      <td>61</td>\n",
              "      <td>Business travel</td>\n",
              "      <td>Business</td>\n",
              "      <td>214</td>\n",
              "      <td>3</td>\n",
              "      <td>3</td>\n",
              "      <td>3</td>\n",
              "      <td>3</td>\n",
              "      <td>4</td>\n",
              "      <td>5</td>\n",
              "      <td>5</td>\n",
              "      <td>3</td>\n",
              "      <td>3</td>\n",
              "      <td>4</td>\n",
              "      <td>4</td>\n",
              "      <td>3</td>\n",
              "      <td>3</td>\n",
              "      <td>3</td>\n",
              "      <td>0</td>\n",
              "      <td>0.0</td>\n",
              "      <td>satisfied</td>\n",
              "    </tr>\n",
              "    <tr>\n",
              "      <th>...</th>\n",
              "      <td>...</td>\n",
              "      <td>...</td>\n",
              "      <td>...</td>\n",
              "      <td>...</td>\n",
              "      <td>...</td>\n",
              "      <td>...</td>\n",
              "      <td>...</td>\n",
              "      <td>...</td>\n",
              "      <td>...</td>\n",
              "      <td>...</td>\n",
              "      <td>...</td>\n",
              "      <td>...</td>\n",
              "      <td>...</td>\n",
              "      <td>...</td>\n",
              "      <td>...</td>\n",
              "      <td>...</td>\n",
              "      <td>...</td>\n",
              "      <td>...</td>\n",
              "      <td>...</td>\n",
              "      <td>...</td>\n",
              "      <td>...</td>\n",
              "      <td>...</td>\n",
              "      <td>...</td>\n",
              "    </tr>\n",
              "    <tr>\n",
              "      <th>103899</th>\n",
              "      <td>Female</td>\n",
              "      <td>disloyal Customer</td>\n",
              "      <td>23</td>\n",
              "      <td>Business travel</td>\n",
              "      <td>Eco</td>\n",
              "      <td>192</td>\n",
              "      <td>2</td>\n",
              "      <td>1</td>\n",
              "      <td>2</td>\n",
              "      <td>3</td>\n",
              "      <td>2</td>\n",
              "      <td>2</td>\n",
              "      <td>2</td>\n",
              "      <td>2</td>\n",
              "      <td>3</td>\n",
              "      <td>1</td>\n",
              "      <td>4</td>\n",
              "      <td>2</td>\n",
              "      <td>3</td>\n",
              "      <td>2</td>\n",
              "      <td>3</td>\n",
              "      <td>0.0</td>\n",
              "      <td>neutral or dissatisfied</td>\n",
              "    </tr>\n",
              "    <tr>\n",
              "      <th>103900</th>\n",
              "      <td>Male</td>\n",
              "      <td>Loyal Customer</td>\n",
              "      <td>49</td>\n",
              "      <td>Business travel</td>\n",
              "      <td>Business</td>\n",
              "      <td>2347</td>\n",
              "      <td>4</td>\n",
              "      <td>4</td>\n",
              "      <td>4</td>\n",
              "      <td>4</td>\n",
              "      <td>2</td>\n",
              "      <td>4</td>\n",
              "      <td>5</td>\n",
              "      <td>5</td>\n",
              "      <td>5</td>\n",
              "      <td>5</td>\n",
              "      <td>5</td>\n",
              "      <td>5</td>\n",
              "      <td>5</td>\n",
              "      <td>4</td>\n",
              "      <td>0</td>\n",
              "      <td>0.0</td>\n",
              "      <td>satisfied</td>\n",
              "    </tr>\n",
              "    <tr>\n",
              "      <th>103901</th>\n",
              "      <td>Male</td>\n",
              "      <td>disloyal Customer</td>\n",
              "      <td>30</td>\n",
              "      <td>Business travel</td>\n",
              "      <td>Business</td>\n",
              "      <td>1995</td>\n",
              "      <td>1</td>\n",
              "      <td>1</td>\n",
              "      <td>1</td>\n",
              "      <td>3</td>\n",
              "      <td>4</td>\n",
              "      <td>1</td>\n",
              "      <td>5</td>\n",
              "      <td>4</td>\n",
              "      <td>3</td>\n",
              "      <td>2</td>\n",
              "      <td>4</td>\n",
              "      <td>5</td>\n",
              "      <td>5</td>\n",
              "      <td>4</td>\n",
              "      <td>7</td>\n",
              "      <td>14.0</td>\n",
              "      <td>neutral or dissatisfied</td>\n",
              "    </tr>\n",
              "    <tr>\n",
              "      <th>103902</th>\n",
              "      <td>Female</td>\n",
              "      <td>disloyal Customer</td>\n",
              "      <td>22</td>\n",
              "      <td>Business travel</td>\n",
              "      <td>Eco</td>\n",
              "      <td>1000</td>\n",
              "      <td>1</td>\n",
              "      <td>1</td>\n",
              "      <td>1</td>\n",
              "      <td>5</td>\n",
              "      <td>1</td>\n",
              "      <td>1</td>\n",
              "      <td>1</td>\n",
              "      <td>1</td>\n",
              "      <td>4</td>\n",
              "      <td>5</td>\n",
              "      <td>1</td>\n",
              "      <td>5</td>\n",
              "      <td>4</td>\n",
              "      <td>1</td>\n",
              "      <td>0</td>\n",
              "      <td>0.0</td>\n",
              "      <td>neutral or dissatisfied</td>\n",
              "    </tr>\n",
              "    <tr>\n",
              "      <th>103903</th>\n",
              "      <td>Male</td>\n",
              "      <td>Loyal Customer</td>\n",
              "      <td>27</td>\n",
              "      <td>Business travel</td>\n",
              "      <td>Business</td>\n",
              "      <td>1723</td>\n",
              "      <td>1</td>\n",
              "      <td>3</td>\n",
              "      <td>3</td>\n",
              "      <td>3</td>\n",
              "      <td>1</td>\n",
              "      <td>1</td>\n",
              "      <td>1</td>\n",
              "      <td>1</td>\n",
              "      <td>1</td>\n",
              "      <td>1</td>\n",
              "      <td>4</td>\n",
              "      <td>4</td>\n",
              "      <td>3</td>\n",
              "      <td>1</td>\n",
              "      <td>0</td>\n",
              "      <td>0.0</td>\n",
              "      <td>neutral or dissatisfied</td>\n",
              "    </tr>\n",
              "  </tbody>\n",
              "</table>\n",
              "<p>103904 rows × 23 columns</p>\n",
              "</div>"
            ],
            "text/plain": [
              "        Gender  ...             satisfaction\n",
              "0         Male  ...  neutral or dissatisfied\n",
              "1         Male  ...  neutral or dissatisfied\n",
              "2       Female  ...                satisfied\n",
              "3       Female  ...  neutral or dissatisfied\n",
              "4         Male  ...                satisfied\n",
              "...        ...  ...                      ...\n",
              "103899  Female  ...  neutral or dissatisfied\n",
              "103900    Male  ...                satisfied\n",
              "103901    Male  ...  neutral or dissatisfied\n",
              "103902  Female  ...  neutral or dissatisfied\n",
              "103903    Male  ...  neutral or dissatisfied\n",
              "\n",
              "[103904 rows x 23 columns]"
            ]
          },
          "metadata": {
            "tags": []
          },
          "execution_count": 11
        }
      ]
    },
    {
      "cell_type": "code",
      "metadata": {
        "id": "CJH0TWsV0N7y",
        "colab": {
          "base_uri": "https://localhost:8080/",
          "height": 574
        },
        "outputId": "5ff44d6b-7ba4-4a33-ae2d-27bcc30f2c3d"
      },
      "source": [
        "#mengganti spasi dengan _\n",
        "df_train.columns = [each.replace(\" \", \"_\") for each in df_train.columns]\n",
        "df_train"
      ],
      "execution_count": null,
      "outputs": [
        {
          "output_type": "execute_result",
          "data": {
            "text/html": [
              "<div>\n",
              "<style scoped>\n",
              "    .dataframe tbody tr th:only-of-type {\n",
              "        vertical-align: middle;\n",
              "    }\n",
              "\n",
              "    .dataframe tbody tr th {\n",
              "        vertical-align: top;\n",
              "    }\n",
              "\n",
              "    .dataframe thead th {\n",
              "        text-align: right;\n",
              "    }\n",
              "</style>\n",
              "<table border=\"1\" class=\"dataframe\">\n",
              "  <thead>\n",
              "    <tr style=\"text-align: right;\">\n",
              "      <th></th>\n",
              "      <th>Gender</th>\n",
              "      <th>Customer_Type</th>\n",
              "      <th>Age</th>\n",
              "      <th>Type_of_Travel</th>\n",
              "      <th>Class</th>\n",
              "      <th>Flight_Distance</th>\n",
              "      <th>Inflight_wifi_service</th>\n",
              "      <th>Departure/Arrival_time_convenient</th>\n",
              "      <th>Ease_of_Online_booking</th>\n",
              "      <th>Gate_location</th>\n",
              "      <th>Food_and_drink</th>\n",
              "      <th>Online_boarding</th>\n",
              "      <th>Seat_comfort</th>\n",
              "      <th>Inflight_entertainment</th>\n",
              "      <th>On-board_service</th>\n",
              "      <th>Leg_room_service</th>\n",
              "      <th>Baggage_handling</th>\n",
              "      <th>Checkin_service</th>\n",
              "      <th>Inflight_service</th>\n",
              "      <th>Cleanliness</th>\n",
              "      <th>Departure_Delay_in_Minutes</th>\n",
              "      <th>Arrival_Delay_in_Minutes</th>\n",
              "      <th>satisfaction</th>\n",
              "    </tr>\n",
              "  </thead>\n",
              "  <tbody>\n",
              "    <tr>\n",
              "      <th>0</th>\n",
              "      <td>Male</td>\n",
              "      <td>Loyal Customer</td>\n",
              "      <td>13</td>\n",
              "      <td>Personal Travel</td>\n",
              "      <td>Eco Plus</td>\n",
              "      <td>460</td>\n",
              "      <td>3</td>\n",
              "      <td>4</td>\n",
              "      <td>3</td>\n",
              "      <td>1</td>\n",
              "      <td>5</td>\n",
              "      <td>3</td>\n",
              "      <td>5</td>\n",
              "      <td>5</td>\n",
              "      <td>4</td>\n",
              "      <td>3</td>\n",
              "      <td>4</td>\n",
              "      <td>4</td>\n",
              "      <td>5</td>\n",
              "      <td>5</td>\n",
              "      <td>25</td>\n",
              "      <td>18.0</td>\n",
              "      <td>neutral or dissatisfied</td>\n",
              "    </tr>\n",
              "    <tr>\n",
              "      <th>1</th>\n",
              "      <td>Male</td>\n",
              "      <td>disloyal Customer</td>\n",
              "      <td>25</td>\n",
              "      <td>Business travel</td>\n",
              "      <td>Business</td>\n",
              "      <td>235</td>\n",
              "      <td>3</td>\n",
              "      <td>2</td>\n",
              "      <td>3</td>\n",
              "      <td>3</td>\n",
              "      <td>1</td>\n",
              "      <td>3</td>\n",
              "      <td>1</td>\n",
              "      <td>1</td>\n",
              "      <td>1</td>\n",
              "      <td>5</td>\n",
              "      <td>3</td>\n",
              "      <td>1</td>\n",
              "      <td>4</td>\n",
              "      <td>1</td>\n",
              "      <td>1</td>\n",
              "      <td>6.0</td>\n",
              "      <td>neutral or dissatisfied</td>\n",
              "    </tr>\n",
              "    <tr>\n",
              "      <th>2</th>\n",
              "      <td>Female</td>\n",
              "      <td>Loyal Customer</td>\n",
              "      <td>26</td>\n",
              "      <td>Business travel</td>\n",
              "      <td>Business</td>\n",
              "      <td>1142</td>\n",
              "      <td>2</td>\n",
              "      <td>2</td>\n",
              "      <td>2</td>\n",
              "      <td>2</td>\n",
              "      <td>5</td>\n",
              "      <td>5</td>\n",
              "      <td>5</td>\n",
              "      <td>5</td>\n",
              "      <td>4</td>\n",
              "      <td>3</td>\n",
              "      <td>4</td>\n",
              "      <td>4</td>\n",
              "      <td>4</td>\n",
              "      <td>5</td>\n",
              "      <td>0</td>\n",
              "      <td>0.0</td>\n",
              "      <td>satisfied</td>\n",
              "    </tr>\n",
              "    <tr>\n",
              "      <th>3</th>\n",
              "      <td>Female</td>\n",
              "      <td>Loyal Customer</td>\n",
              "      <td>25</td>\n",
              "      <td>Business travel</td>\n",
              "      <td>Business</td>\n",
              "      <td>562</td>\n",
              "      <td>2</td>\n",
              "      <td>5</td>\n",
              "      <td>5</td>\n",
              "      <td>5</td>\n",
              "      <td>2</td>\n",
              "      <td>2</td>\n",
              "      <td>2</td>\n",
              "      <td>2</td>\n",
              "      <td>2</td>\n",
              "      <td>5</td>\n",
              "      <td>3</td>\n",
              "      <td>1</td>\n",
              "      <td>4</td>\n",
              "      <td>2</td>\n",
              "      <td>11</td>\n",
              "      <td>9.0</td>\n",
              "      <td>neutral or dissatisfied</td>\n",
              "    </tr>\n",
              "    <tr>\n",
              "      <th>4</th>\n",
              "      <td>Male</td>\n",
              "      <td>Loyal Customer</td>\n",
              "      <td>61</td>\n",
              "      <td>Business travel</td>\n",
              "      <td>Business</td>\n",
              "      <td>214</td>\n",
              "      <td>3</td>\n",
              "      <td>3</td>\n",
              "      <td>3</td>\n",
              "      <td>3</td>\n",
              "      <td>4</td>\n",
              "      <td>5</td>\n",
              "      <td>5</td>\n",
              "      <td>3</td>\n",
              "      <td>3</td>\n",
              "      <td>4</td>\n",
              "      <td>4</td>\n",
              "      <td>3</td>\n",
              "      <td>3</td>\n",
              "      <td>3</td>\n",
              "      <td>0</td>\n",
              "      <td>0.0</td>\n",
              "      <td>satisfied</td>\n",
              "    </tr>\n",
              "    <tr>\n",
              "      <th>...</th>\n",
              "      <td>...</td>\n",
              "      <td>...</td>\n",
              "      <td>...</td>\n",
              "      <td>...</td>\n",
              "      <td>...</td>\n",
              "      <td>...</td>\n",
              "      <td>...</td>\n",
              "      <td>...</td>\n",
              "      <td>...</td>\n",
              "      <td>...</td>\n",
              "      <td>...</td>\n",
              "      <td>...</td>\n",
              "      <td>...</td>\n",
              "      <td>...</td>\n",
              "      <td>...</td>\n",
              "      <td>...</td>\n",
              "      <td>...</td>\n",
              "      <td>...</td>\n",
              "      <td>...</td>\n",
              "      <td>...</td>\n",
              "      <td>...</td>\n",
              "      <td>...</td>\n",
              "      <td>...</td>\n",
              "    </tr>\n",
              "    <tr>\n",
              "      <th>103899</th>\n",
              "      <td>Female</td>\n",
              "      <td>disloyal Customer</td>\n",
              "      <td>23</td>\n",
              "      <td>Business travel</td>\n",
              "      <td>Eco</td>\n",
              "      <td>192</td>\n",
              "      <td>2</td>\n",
              "      <td>1</td>\n",
              "      <td>2</td>\n",
              "      <td>3</td>\n",
              "      <td>2</td>\n",
              "      <td>2</td>\n",
              "      <td>2</td>\n",
              "      <td>2</td>\n",
              "      <td>3</td>\n",
              "      <td>1</td>\n",
              "      <td>4</td>\n",
              "      <td>2</td>\n",
              "      <td>3</td>\n",
              "      <td>2</td>\n",
              "      <td>3</td>\n",
              "      <td>0.0</td>\n",
              "      <td>neutral or dissatisfied</td>\n",
              "    </tr>\n",
              "    <tr>\n",
              "      <th>103900</th>\n",
              "      <td>Male</td>\n",
              "      <td>Loyal Customer</td>\n",
              "      <td>49</td>\n",
              "      <td>Business travel</td>\n",
              "      <td>Business</td>\n",
              "      <td>2347</td>\n",
              "      <td>4</td>\n",
              "      <td>4</td>\n",
              "      <td>4</td>\n",
              "      <td>4</td>\n",
              "      <td>2</td>\n",
              "      <td>4</td>\n",
              "      <td>5</td>\n",
              "      <td>5</td>\n",
              "      <td>5</td>\n",
              "      <td>5</td>\n",
              "      <td>5</td>\n",
              "      <td>5</td>\n",
              "      <td>5</td>\n",
              "      <td>4</td>\n",
              "      <td>0</td>\n",
              "      <td>0.0</td>\n",
              "      <td>satisfied</td>\n",
              "    </tr>\n",
              "    <tr>\n",
              "      <th>103901</th>\n",
              "      <td>Male</td>\n",
              "      <td>disloyal Customer</td>\n",
              "      <td>30</td>\n",
              "      <td>Business travel</td>\n",
              "      <td>Business</td>\n",
              "      <td>1995</td>\n",
              "      <td>1</td>\n",
              "      <td>1</td>\n",
              "      <td>1</td>\n",
              "      <td>3</td>\n",
              "      <td>4</td>\n",
              "      <td>1</td>\n",
              "      <td>5</td>\n",
              "      <td>4</td>\n",
              "      <td>3</td>\n",
              "      <td>2</td>\n",
              "      <td>4</td>\n",
              "      <td>5</td>\n",
              "      <td>5</td>\n",
              "      <td>4</td>\n",
              "      <td>7</td>\n",
              "      <td>14.0</td>\n",
              "      <td>neutral or dissatisfied</td>\n",
              "    </tr>\n",
              "    <tr>\n",
              "      <th>103902</th>\n",
              "      <td>Female</td>\n",
              "      <td>disloyal Customer</td>\n",
              "      <td>22</td>\n",
              "      <td>Business travel</td>\n",
              "      <td>Eco</td>\n",
              "      <td>1000</td>\n",
              "      <td>1</td>\n",
              "      <td>1</td>\n",
              "      <td>1</td>\n",
              "      <td>5</td>\n",
              "      <td>1</td>\n",
              "      <td>1</td>\n",
              "      <td>1</td>\n",
              "      <td>1</td>\n",
              "      <td>4</td>\n",
              "      <td>5</td>\n",
              "      <td>1</td>\n",
              "      <td>5</td>\n",
              "      <td>4</td>\n",
              "      <td>1</td>\n",
              "      <td>0</td>\n",
              "      <td>0.0</td>\n",
              "      <td>neutral or dissatisfied</td>\n",
              "    </tr>\n",
              "    <tr>\n",
              "      <th>103903</th>\n",
              "      <td>Male</td>\n",
              "      <td>Loyal Customer</td>\n",
              "      <td>27</td>\n",
              "      <td>Business travel</td>\n",
              "      <td>Business</td>\n",
              "      <td>1723</td>\n",
              "      <td>1</td>\n",
              "      <td>3</td>\n",
              "      <td>3</td>\n",
              "      <td>3</td>\n",
              "      <td>1</td>\n",
              "      <td>1</td>\n",
              "      <td>1</td>\n",
              "      <td>1</td>\n",
              "      <td>1</td>\n",
              "      <td>1</td>\n",
              "      <td>4</td>\n",
              "      <td>4</td>\n",
              "      <td>3</td>\n",
              "      <td>1</td>\n",
              "      <td>0</td>\n",
              "      <td>0.0</td>\n",
              "      <td>neutral or dissatisfied</td>\n",
              "    </tr>\n",
              "  </tbody>\n",
              "</table>\n",
              "<p>103904 rows × 23 columns</p>\n",
              "</div>"
            ],
            "text/plain": [
              "        Gender  ...             satisfaction\n",
              "0         Male  ...  neutral or dissatisfied\n",
              "1         Male  ...  neutral or dissatisfied\n",
              "2       Female  ...                satisfied\n",
              "3       Female  ...  neutral or dissatisfied\n",
              "4         Male  ...                satisfied\n",
              "...        ...  ...                      ...\n",
              "103899  Female  ...  neutral or dissatisfied\n",
              "103900    Male  ...                satisfied\n",
              "103901    Male  ...  neutral or dissatisfied\n",
              "103902  Female  ...  neutral or dissatisfied\n",
              "103903    Male  ...  neutral or dissatisfied\n",
              "\n",
              "[103904 rows x 23 columns]"
            ]
          },
          "metadata": {
            "tags": []
          },
          "execution_count": 12
        }
      ]
    },
    {
      "cell_type": "markdown",
      "metadata": {
        "id": "lZVVpU-2H8oE"
      },
      "source": [
        "### Merubah data categorical menjadi numerical"
      ]
    },
    {
      "cell_type": "code",
      "metadata": {
        "id": "WbLTBL8QHz4m"
      },
      "source": [
        "#Binary encoding data train\n",
        "df_train['Gender'] = df_train['Gender'].map({'Female': 1, 'Male': 0})\n",
        "df_train['Type_of_Travel'] = df_train['Type_of_Travel'].map({'Business travel': 1, 'Personal Travel': 0})\n",
        "df_train['Customer_Type'] = df_train['Customer_Type'].map({'Loyal Customer': 1, 'disloyal Customer': 0})\n",
        "df_train['Class'] = df_train['Class'].map({'Business': 2, 'Eco Plus': 1, 'Eco': 0})\n",
        "df_train['satisfaction'] = df_train['satisfaction'].map({'satisfied': 1, 'neutral or dissatisfied': 0})"
      ],
      "execution_count": null,
      "outputs": []
    },
    {
      "cell_type": "markdown",
      "metadata": {
        "id": "b3N8OYbjdvwM"
      },
      "source": [
        "### Handle Outliers"
      ]
    },
    {
      "cell_type": "code",
      "metadata": {
        "id": "1jcvK1tHd1CK",
        "colab": {
          "base_uri": "https://localhost:8080/",
          "height": 1000
        },
        "outputId": "ae84ba9a-90e3-4041-eea9-89ac3ce40ae7"
      },
      "source": [
        "for x in df_train.columns:\n",
        "    if(x == \"satisfaction\"): \n",
        "        continue\n",
        "    else:\n",
        "        df_train[x].plot.box()\n",
        "        plt.show()"
      ],
      "execution_count": null,
      "outputs": [
        {
          "output_type": "display_data",
          "data": {
            "image/png": "[encoded data removed]",
            "text/plain": [
              "<Figure size 432x288 with 1 Axes>"
            ]
          },
          "metadata": {
            "tags": [],
            "needs_background": "light"
          }
        },
        {
          "output_type": "display_data",
          "data": {
            "image/png": "[encoded data removed]",
            "text/plain": [
              "<Figure size 432x288 with 1 Axes>"
            ]
          },
          "metadata": {
            "tags": [],
            "needs_background": "light"
          }
        },
        {
          "output_type": "display_data",
          "data": {
            "image/png": "[encoded data removed]",
            "text/plain": [
              "<Figure size 432x288 with 1 Axes>"
            ]
          },
          "metadata": {
            "tags": [],
            "needs_background": "light"
          }
        },
        {
          "output_type": "display_data",
          "data": {
            "image/png": "[encoded data removed]",
            "text/plain": [
              "<Figure size 432x288 with 1 Axes>"
            ]
          },
          "metadata": {
            "tags": [],
            "needs_background": "light"
          }
        },
        {
          "output_type": "display_data",
          "data": {
            "image/png": "[encoded data removed]",
            "text/plain": [
              "<Figure size 432x288 with 1 Axes>"
            ]
          },
          "metadata": {
            "tags": [],
            "needs_background": "light"
          }
        },
        {
          "output_type": "display_data",
          "data": {
            "image/png": "[encoded data removed]",
            "text/plain": [
              "<Figure size 432x288 with 1 Axes>"
            ]
          },
          "metadata": {
            "tags": [],
            "needs_background": "light"
          }
        },
        {
          "output_type": "display_data",
          "data": {
            "image/png": "[encoded data removed]",
            "text/plain": [
              "<Figure size 432x288 with 1 Axes>"
            ]
          },
          "metadata": {
            "tags": [],
            "needs_background": "light"
          }
        },
        {
          "output_type": "display_data",
          "data": {
            "image/png": "[encoded data removed]",
            "text/plain": [
              "<Figure size 432x288 with 1 Axes>"
            ]
          },
          "metadata": {
            "tags": [],
            "needs_background": "light"
          }
        },
        {
          "output_type": "display_data",
          "data": {
            "image/png": "[encoded data removed]",
            "text/plain": [
              "<Figure size 432x288 with 1 Axes>"
            ]
          },
          "metadata": {
            "tags": [],
            "needs_background": "light"
          }
        },
        {
          "output_type": "display_data",
          "data": {
            "image/png": "[encoded data removed]",
            "text/plain": [
              "<Figure size 432x288 with 1 Axes>"
            ]
          },
          "metadata": {
            "tags": [],
            "needs_background": "light"
          }
        },
        {
          "output_type": "display_data",
          "data": {
            "image/png": "[encoded data removed]",
            "text/plain": [
              "<Figure size 432x288 with 1 Axes>"
            ]
          },
          "metadata": {
            "tags": [],
            "needs_background": "light"
          }
        },
        {
          "output_type": "display_data",
          "data": {
            "image/png": "[encoded data removed]",
            "text/plain": [
              "<Figure size 432x288 with 1 Axes>"
            ]
          },
          "metadata": {
            "tags": [],
            "needs_background": "light"
          }
        },
        {
          "output_type": "display_data",
          "data": {
            "image/png": "[encoded data removed]",
            "text/plain": [
              "<Figure size 432x288 with 1 Axes>"
            ]
          },
          "metadata": {
            "tags": [],
            "needs_background": "light"
          }
        },
        {
          "output_type": "display_data",
          "data": {
            "image/png": "[encoded data removed]",
            "text/plain": [
              "<Figure size 432x288 with 1 Axes>"
            ]
          },
          "metadata": {
            "tags": [],
            "needs_background": "light"
          }
        },
        {
          "output_type": "display_data",
          "data": {
            "image/png": "[encoded data removed]",
            "text/plain": [
              "<Figure size 432x288 with 1 Axes>"
            ]
          },
          "metadata": {
            "tags": [],
            "needs_background": "light"
          }
        },
        {
          "output_type": "display_data",
          "data": {
            "image/png": "[encoded data removed]",
            "text/plain": [
              "<Figure size 432x288 with 1 Axes>"
            ]
          },
          "metadata": {
            "tags": [],
            "needs_background": "light"
          }
        },
        {
          "output_type": "display_data",
          "data": {
            "image/png": "[encoded data removed]",
            "text/plain": [
              "<Figure size 432x288 with 1 Axes>"
            ]
          },
          "metadata": {
            "tags": [],
            "needs_background": "light"
          }
        },
        {
          "output_type": "display_data",
          "data": {
            "image/png": "[encoded data removed]",
            "text/plain": [
              "<Figure size 432x288 with 1 Axes>"
            ]
          },
          "metadata": {
            "tags": [],
            "needs_background": "light"
          }
        },
        {
          "output_type": "display_data",
          "data": {
            "image/png": "[encoded data removed]",
            "text/plain": [
              "<Figure size 432x288 with 1 Axes>"
            ]
          },
          "metadata": {
            "tags": [],
            "needs_background": "light"
          }
        },
        {
          "output_type": "display_data",
          "data": {
            "image/png": "[encoded data removed]",
            "text/plain": [
              "<Figure size 432x288 with 1 Axes>"
            ]
          },
          "metadata": {
            "tags": [],
            "needs_background": "light"
          }
        },
        {
          "output_type": "display_data",
          "data": {
            "image/png": "[encoded data removed]",
            "text/plain": [
              "<Figure size 432x288 with 1 Axes>"
            ]
          },
          "metadata": {
            "tags": [],
            "needs_background": "light"
          }
        },
        {
          "output_type": "display_data",
          "data": {
            "image/png": "[encoded data removed]",
            "text/plain": [
              "<Figure size 432x288 with 1 Axes>"
            ]
          },
          "metadata": {
            "tags": [],
            "needs_background": "light"
          }
        }
      ]
    },
    {
      "cell_type": "code",
      "metadata": {
        "id": "s8ibQbnI1GPd"
      },
      "source": [
        "def fill_outliers_with_mean(data, x):\n",
        "    Q1 = data[x].describe()['25%']\n",
        "    Q3 = data[x].describe()['75%']\n",
        "    IQR = Q3-Q1\n",
        "    for i in data.index:\n",
        "        if((data.loc[i][x] < Q1-1.5*IQR) | (data.loc[i][x] > Q3+1.5*IQR)):\n",
        "            data[x].fillna(data[x].mean(), inplace=True)\n"
      ],
      "execution_count": null,
      "outputs": []
    },
    {
      "cell_type": "code",
      "metadata": {
        "id": "zFLTPYaP-mum"
      },
      "source": [
        "fill_outliers_with_mean(df_train, 'Flight_Distance')\n",
        "fill_outliers_with_mean(df_train, 'Checkin_service')\n",
        "fill_outliers_with_mean(df_train, 'Departure_Delay_in_Minutes')\n",
        "fill_outliers_with_mean(df_train, 'Arrival_Delay_in_Minutes')"
      ],
      "execution_count": null,
      "outputs": []
    },
    {
      "cell_type": "markdown",
      "metadata": {
        "id": "fNkPfxvNge3O"
      },
      "source": [
        "### Mengulangi proses untuk data test"
      ]
    },
    {
      "cell_type": "code",
      "metadata": {
        "id": "CKtah2k5gx-W",
        "colab": {
          "base_uri": "https://localhost:8080/"
        },
        "outputId": "95b1601b-2f6e-45a7-aca2-3419f9d62ce1"
      },
      "source": [
        "df_test = pd.read_csv('test.csv')\n",
        "df_test.info()"
      ],
      "execution_count": null,
      "outputs": [
        {
          "output_type": "stream",
          "text": [
            "<class 'pandas.core.frame.DataFrame'>\n",
            "RangeIndex: 25976 entries, 0 to 25975\n",
            "Data columns (total 25 columns):\n",
            " #   Column                             Non-Null Count  Dtype  \n",
            "---  ------                             --------------  -----  \n",
            " 0   Unnamed: 0                         25976 non-null  int64  \n",
            " 1   id                                 25976 non-null  int64  \n",
            " 2   Gender                             25976 non-null  object \n",
            " 3   Customer Type                      25976 non-null  object \n",
            " 4   Age                                25976 non-null  int64  \n",
            " 5   Type of Travel                     25976 non-null  object \n",
            " 6   Class                              25976 non-null  object \n",
            " 7   Flight Distance                    25976 non-null  int64  \n",
            " 8   Inflight wifi service              25976 non-null  int64  \n",
            " 9   Departure/Arrival time convenient  25976 non-null  int64  \n",
            " 10  Ease of Online booking             25976 non-null  int64  \n",
            " 11  Gate location                      25976 non-null  int64  \n",
            " 12  Food and drink                     25976 non-null  int64  \n",
            " 13  Online boarding                    25976 non-null  int64  \n",
            " 14  Seat comfort                       25976 non-null  int64  \n",
            " 15  Inflight entertainment             25976 non-null  int64  \n",
            " 16  On-board service                   25976 non-null  int64  \n",
            " 17  Leg room service                   25976 non-null  int64  \n",
            " 18  Baggage handling                   25976 non-null  int64  \n",
            " 19  Checkin service                    25976 non-null  int64  \n",
            " 20  Inflight service                   25976 non-null  int64  \n",
            " 21  Cleanliness                        25976 non-null  int64  \n",
            " 22  Departure Delay in Minutes         25976 non-null  int64  \n",
            " 23  Arrival Delay in Minutes           25893 non-null  float64\n",
            " 24  satisfaction                       25976 non-null  object \n",
            "dtypes: float64(1), int64(19), object(5)\n",
            "memory usage: 5.0+ MB\n"
          ],
          "name": "stdout"
        }
      ]
    },
    {
      "cell_type": "code",
      "metadata": {
        "id": "28PQZpL_hSRC",
        "colab": {
          "base_uri": "https://localhost:8080/"
        },
        "outputId": "44c4d429-8a24-45e9-c32a-51086dcec3d2"
      },
      "source": [
        "df_test.isnull().sum()"
      ],
      "execution_count": null,
      "outputs": [
        {
          "output_type": "execute_result",
          "data": {
            "text/plain": [
              "Unnamed: 0                            0\n",
              "id                                    0\n",
              "Gender                                0\n",
              "Customer Type                         0\n",
              "Age                                   0\n",
              "Type of Travel                        0\n",
              "Class                                 0\n",
              "Flight Distance                       0\n",
              "Inflight wifi service                 0\n",
              "Departure/Arrival time convenient     0\n",
              "Ease of Online booking                0\n",
              "Gate location                         0\n",
              "Food and drink                        0\n",
              "Online boarding                       0\n",
              "Seat comfort                          0\n",
              "Inflight entertainment                0\n",
              "On-board service                      0\n",
              "Leg room service                      0\n",
              "Baggage handling                      0\n",
              "Checkin service                       0\n",
              "Inflight service                      0\n",
              "Cleanliness                           0\n",
              "Departure Delay in Minutes            0\n",
              "Arrival Delay in Minutes             83\n",
              "satisfaction                          0\n",
              "dtype: int64"
            ]
          },
          "metadata": {
            "tags": []
          },
          "execution_count": 18
        }
      ]
    },
    {
      "cell_type": "code",
      "metadata": {
        "id": "ZF18885OhWXS"
      },
      "source": [
        "df_test['Arrival Delay in Minutes'].fillna(df_test['Arrival Delay in Minutes'].mean(), inplace=True)"
      ],
      "execution_count": null,
      "outputs": []
    },
    {
      "cell_type": "code",
      "metadata": {
        "id": "8xPTMa9ThkFB",
        "colab": {
          "base_uri": "https://localhost:8080/"
        },
        "outputId": "a547c713-fa1e-4423-d6f1-74bfbf79d1d1"
      },
      "source": [
        "df_test.duplicated().value_counts()\n",
        "#Tidak ada duplikasi data"
      ],
      "execution_count": null,
      "outputs": [
        {
          "output_type": "execute_result",
          "data": {
            "text/plain": [
              "False    25976\n",
              "dtype: int64"
            ]
          },
          "metadata": {
            "tags": []
          },
          "execution_count": 20
        }
      ]
    },
    {
      "cell_type": "code",
      "metadata": {
        "id": "nJ45H4J1hmb0"
      },
      "source": [
        "df_test.drop(['Unnamed: 0','id'],axis=1, inplace=True)"
      ],
      "execution_count": null,
      "outputs": []
    },
    {
      "cell_type": "code",
      "metadata": {
        "id": "fbxAp8EdhqXL"
      },
      "source": [
        "df_test.columns = [each.replace(\" \", \"_\") for each in df_test.columns]"
      ],
      "execution_count": null,
      "outputs": []
    },
    {
      "cell_type": "code",
      "metadata": {
        "id": "nTdbhwTuIj0g"
      },
      "source": [
        "#Binary encoding data test\n",
        "df_test['Gender'] = df_test['Gender'].map({'Female': 1, 'Male': 0})\n",
        "df_test['Type_of_Travel'] = df_test['Type_of_Travel'].map({'Business travel': 1, 'Personal Travel': 0})\n",
        "df_test['Customer_Type'] = df_test['Customer_Type'].map({'Loyal Customer': 1, 'disloyal Customer': 0})\n",
        "df_test['Class'] = df_test['Class'].map({'Business': 2, 'Eco Plus': 1, 'Eco': 0})\n",
        "df_test['satisfaction'] = df_test['satisfaction'].map({'satisfied': 1, 'neutral or dissatisfied': 0})"
      ],
      "execution_count": null,
      "outputs": []
    },
    {
      "cell_type": "code",
      "metadata": {
        "id": "-cyUACAOhsCk"
      },
      "source": [
        "fill_outliers_with_mean(df_test, 'Flight_Distance')\n",
        "fill_outliers_with_mean(df_test, 'Checkin_service')\n",
        "fill_outliers_with_mean(df_test, 'Departure_Delay_in_Minutes')\n",
        "fill_outliers_with_mean(df_test, 'Arrival_Delay_in_Minutes')"
      ],
      "execution_count": null,
      "outputs": []
    },
    {
      "cell_type": "markdown",
      "metadata": {
        "id": "BQA5FqeINcsF"
      },
      "source": [
        "### Melihat value counts yang nantinya untuk menarik kesimpulan hendak menggunakan f1_score atau accuracy"
      ]
    },
    {
      "cell_type": "code",
      "metadata": {
        "id": "1HErNOQ1LnOD",
        "colab": {
          "base_uri": "https://localhost:8080/"
        },
        "outputId": "7f739975-678a-496d-f0b1-7a11c15cd044"
      },
      "source": [
        "df_train['satisfaction'].value_counts() #Data imbalance menggunakan f1 score"
      ],
      "execution_count": null,
      "outputs": [
        {
          "output_type": "execute_result",
          "data": {
            "text/plain": [
              "0    58879\n",
              "1    45025\n",
              "Name: satisfaction, dtype: int64"
            ]
          },
          "metadata": {
            "tags": []
          },
          "execution_count": 25
        }
      ]
    },
    {
      "cell_type": "markdown",
      "metadata": {
        "id": "uI1NMiWgtgGw"
      },
      "source": [
        "# Data Visualization"
      ]
    },
    {
      "cell_type": "code",
      "metadata": {
        "id": "NvoLwPT5_C8s",
        "colab": {
          "base_uri": "https://localhost:8080/",
          "height": 331
        },
        "outputId": "926f1972-847d-41b5-98b0-15c84c64ad83"
      },
      "source": [
        "sns.countplot(data=df_train, x='satisfaction')\n",
        "df_train['satisfaction'].value_counts()\n",
        "\n",
        "# satisfied : 1\n",
        "# neutral or dissatisfied : 0"
      ],
      "execution_count": null,
      "outputs": [
        {
          "output_type": "execute_result",
          "data": {
            "text/plain": [
              "0    58879\n",
              "1    45025\n",
              "Name: satisfaction, dtype: int64"
            ]
          },
          "metadata": {
            "tags": []
          },
          "execution_count": 35
        },
        {
          "output_type": "display_data",
          "data": {
            "image/png": "[encoded data removed]",
            "text/plain": [
              "<Figure size 432x288 with 1 Axes>"
            ]
          },
          "metadata": {
            "tags": [],
            "needs_background": "light"
          }
        }
      ]
    },
    {
      "cell_type": "code",
      "metadata": {
        "id": "mkFBCJnwD7FV",
        "colab": {
          "base_uri": "https://localhost:8080/",
          "height": 351
        },
        "outputId": "8ffe7e56-c187-42db-a1ea-d01ff5a7c0e1"
      },
      "source": [
        "class_df = df_train.groupby(['satisfaction','Gender'])['satisfaction'].count().unstack('Gender')\n",
        "class_df.plot(kind='bar', figsize=(10,5), rot=0)\n",
        "\n",
        "# Female : 1 \n",
        "# Male : 0"
      ],
      "execution_count": null,
      "outputs": [
        {
          "output_type": "execute_result",
          "data": {
            "text/plain": [
              "<matplotlib.axes._subplots.AxesSubplot at 0x7fad707cd0d0>"
            ]
          },
          "metadata": {
            "tags": []
          },
          "execution_count": 27
        },
        {
          "output_type": "display_data",
          "data": {
            "image/png": "[encoded data removed]",
            "text/plain": [
              "<Figure size 720x360 with 1 Axes>"
            ]
          },
          "metadata": {
            "tags": [],
            "needs_background": "light"
          }
        }
      ]
    },
    {
      "cell_type": "code",
      "metadata": {
        "id": "6nOe0rIjA9OS",
        "colab": {
          "base_uri": "https://localhost:8080/",
          "height": 367
        },
        "outputId": "0e1bab55-8883-4b3f-eb63-d642c8828829"
      },
      "source": [
        "customer_df = df_train.groupby(['satisfaction','Customer_Type'])['satisfaction'].count().unstack('Customer_Type')\n",
        "customer_df.plot(kind='bar', figsize=(10,5), rot=0, title='Loyal customers are more dissatisfied with the airline')\n",
        "\n",
        "# Loyal Customer : 1\n",
        "# disloyal Customer: 0"
      ],
      "execution_count": null,
      "outputs": [
        {
          "output_type": "execute_result",
          "data": {
            "text/plain": [
              "<matplotlib.axes._subplots.AxesSubplot at 0x7fad704aa950>"
            ]
          },
          "metadata": {
            "tags": []
          },
          "execution_count": 28
        },
        {
          "output_type": "display_data",
          "data": {
            "image/png": "[encoded data removed]",
            "text/plain": [
              "<Figure size 720x360 with 1 Axes>"
            ]
          },
          "metadata": {
            "tags": [],
            "needs_background": "light"
          }
        }
      ]
    },
    {
      "cell_type": "code",
      "metadata": {
        "id": "HKu7n3toDOSa",
        "colab": {
          "base_uri": "https://localhost:8080/",
          "height": 367
        },
        "outputId": "dc50c392-3fb8-48b0-a667-cc5f3a6df0c7"
      },
      "source": [
        "class_df = df_train.groupby(['satisfaction','Type_of_Travel'])['satisfaction'].count().unstack('Type_of_Travel')\n",
        "class_df.plot(kind='bar', figsize=(10,5), rot=0, title='Business travel are most satisfied')\n",
        "\n",
        "# Business travel : 1\n",
        "# Personal Travel : 0"
      ],
      "execution_count": null,
      "outputs": [
        {
          "output_type": "execute_result",
          "data": {
            "text/plain": [
              "<matplotlib.axes._subplots.AxesSubplot at 0x7fad70325690>"
            ]
          },
          "metadata": {
            "tags": []
          },
          "execution_count": 29
        },
        {
          "output_type": "display_data",
          "data": {
            "image/png": "[encoded data removed]",
            "text/plain": [
              "<Figure size 720x360 with 1 Axes>"
            ]
          },
          "metadata": {
            "tags": [],
            "needs_background": "light"
          }
        }
      ]
    },
    {
      "cell_type": "code",
      "metadata": {
        "id": "84I2YdYaBpZv",
        "colab": {
          "base_uri": "https://localhost:8080/",
          "height": 367
        },
        "outputId": "a00c7043-5516-4b42-8ce0-21ad7f4870c6"
      },
      "source": [
        "class_df = df_train.groupby(['satisfaction','Class'])['satisfaction'].count().unstack('Class')\n",
        "class_df.plot(kind='bar', figsize=(10,5), rot=0, title='People travelling business class are most satisfied')\n",
        "\n",
        "# Business : 2\n",
        "# Eco Plus : 1\n",
        "# Eco : 0"
      ],
      "execution_count": null,
      "outputs": [
        {
          "output_type": "execute_result",
          "data": {
            "text/plain": [
              "<matplotlib.axes._subplots.AxesSubplot at 0x7fad703d5f50>"
            ]
          },
          "metadata": {
            "tags": []
          },
          "execution_count": 30
        },
        {
          "output_type": "display_data",
          "data": {
            "image/png": "[encoded data removed]",
            "text/plain": [
              "<Figure size 720x360 with 1 Axes>"
            ]
          },
          "metadata": {
            "tags": [],
            "needs_background": "light"
          }
        }
      ]
    },
    {
      "cell_type": "code",
      "metadata": {
        "id": "648SzoTn_Lv6",
        "colab": {
          "base_uri": "https://localhost:8080/",
          "height": 1000
        },
        "outputId": "e16ba1ae-b909-4f53-f023-6442fe34d0f8"
      },
      "source": [
        "columns = [\"Inflight_wifi_service\",\n",
        "           \"Departure/Arrival_time_convenient\",\n",
        "           \"Ease_of_Online_booking\",\n",
        "           \"Gate_location\",\n",
        "           \"Food_and_drink\",\n",
        "           \"Online_boarding\",\n",
        "           \"Seat_comfort\",\n",
        "           \"Inflight_entertainment\",\n",
        "           \"On-board_service\",\n",
        "           \"Leg_room_service\",\n",
        "           \"Baggage_handling\",\n",
        "           \"Checkin_service\",\n",
        "           \"Inflight_service\",\n",
        "           \"Cleanliness\"]\n",
        "\n",
        "fig, ax = plt.subplots(3, 5, figsize=(30,20))\n",
        "for var, subplot in zip(columns, ax.flatten()):\n",
        "  sns.countplot(df_train[var], hue=df_train['satisfaction'], ax=subplot)\n",
        "  for label in subplot.get_xticklabels():\n",
        "    label.set_rotation(0)"
      ],
      "execution_count": null,
      "outputs": [
        {
          "output_type": "stream",
          "text": [
            "/usr/local/lib/python3.7/dist-packages/seaborn/_decorators.py:43: FutureWarning: Pass the following variable as a keyword arg: x. From version 0.12, the only valid positional argument will be `data`, and passing other arguments without an explicit keyword will result in an error or misinterpretation.\n",
            "  FutureWarning\n",
            "/usr/local/lib/python3.7/dist-packages/seaborn/_decorators.py:43: FutureWarning: Pass the following variable as a keyword arg: x. From version 0.12, the only valid positional argument will be `data`, and passing other arguments without an explicit keyword will result in an error or misinterpretation.\n",
            "  FutureWarning\n",
            "/usr/local/lib/python3.7/dist-packages/seaborn/_decorators.py:43: FutureWarning: Pass the following variable as a keyword arg: x. From version 0.12, the only valid positional argument will be `data`, and passing other arguments without an explicit keyword will result in an error or misinterpretation.\n",
            "  FutureWarning\n",
            "/usr/local/lib/python3.7/dist-packages/seaborn/_decorators.py:43: FutureWarning: Pass the following variable as a keyword arg: x. From version 0.12, the only valid positional argument will be `data`, and passing other arguments without an explicit keyword will result in an error or misinterpretation.\n",
            "  FutureWarning\n",
            "/usr/local/lib/python3.7/dist-packages/seaborn/_decorators.py:43: FutureWarning: Pass the following variable as a keyword arg: x. From version 0.12, the only valid positional argument will be `data`, and passing other arguments without an explicit keyword will result in an error or misinterpretation.\n",
            "  FutureWarning\n",
            "/usr/local/lib/python3.7/dist-packages/seaborn/_decorators.py:43: FutureWarning: Pass the following variable as a keyword arg: x. From version 0.12, the only valid positional argument will be `data`, and passing other arguments without an explicit keyword will result in an error or misinterpretation.\n",
            "  FutureWarning\n",
            "/usr/local/lib/python3.7/dist-packages/seaborn/_decorators.py:43: FutureWarning: Pass the following variable as a keyword arg: x. From version 0.12, the only valid positional argument will be `data`, and passing other arguments without an explicit keyword will result in an error or misinterpretation.\n",
            "  FutureWarning\n",
            "/usr/local/lib/python3.7/dist-packages/seaborn/_decorators.py:43: FutureWarning: Pass the following variable as a keyword arg: x. From version 0.12, the only valid positional argument will be `data`, and passing other arguments without an explicit keyword will result in an error or misinterpretation.\n",
            "  FutureWarning\n",
            "/usr/local/lib/python3.7/dist-packages/seaborn/_decorators.py:43: FutureWarning: Pass the following variable as a keyword arg: x. From version 0.12, the only valid positional argument will be `data`, and passing other arguments without an explicit keyword will result in an error or misinterpretation.\n",
            "  FutureWarning\n",
            "/usr/local/lib/python3.7/dist-packages/seaborn/_decorators.py:43: FutureWarning: Pass the following variable as a keyword arg: x. From version 0.12, the only valid positional argument will be `data`, and passing other arguments without an explicit keyword will result in an error or misinterpretation.\n",
            "  FutureWarning\n",
            "/usr/local/lib/python3.7/dist-packages/seaborn/_decorators.py:43: FutureWarning: Pass the following variable as a keyword arg: x. From version 0.12, the only valid positional argument will be `data`, and passing other arguments without an explicit keyword will result in an error or misinterpretation.\n",
            "  FutureWarning\n",
            "/usr/local/lib/python3.7/dist-packages/seaborn/_decorators.py:43: FutureWarning: Pass the following variable as a keyword arg: x. From version 0.12, the only valid positional argument will be `data`, and passing other arguments without an explicit keyword will result in an error or misinterpretation.\n",
            "  FutureWarning\n",
            "/usr/local/lib/python3.7/dist-packages/seaborn/_decorators.py:43: FutureWarning: Pass the following variable as a keyword arg: x. From version 0.12, the only valid positional argument will be `data`, and passing other arguments without an explicit keyword will result in an error or misinterpretation.\n",
            "  FutureWarning\n",
            "/usr/local/lib/python3.7/dist-packages/seaborn/_decorators.py:43: FutureWarning: Pass the following variable as a keyword arg: x. From version 0.12, the only valid positional argument will be `data`, and passing other arguments without an explicit keyword will result in an error or misinterpretation.\n",
            "  FutureWarning\n"
          ],
          "name": "stderr"
        },
        {
          "output_type": "display_data",
          "data": {
            "image/png": "[encoded data removed]",
            "text/plain": [
              "<Figure size 2160x1440 with 15 Axes>"
            ]
          },
          "metadata": {
            "tags": []
          }
        }
      ]
    },
    {
      "cell_type": "markdown",
      "metadata": {
        "id": "UbhkTscITmLZ"
      },
      "source": [
        "# Data Modelling and Report "
      ]
    },
    {
      "cell_type": "code",
      "metadata": {
        "id": "d_XwD3a3TpgX"
      },
      "source": [
        "from sklearn.ensemble import RandomForestClassifier\n",
        "from sklearn.linear_model import LogisticRegression\n",
        "from sklearn.model_selection import GridSearchCV\n",
        "from sklearn.metrics import plot_confusion_matrix, classification_report"
      ],
      "execution_count": null,
      "outputs": []
    },
    {
      "cell_type": "code",
      "metadata": {
        "id": "WzfPRmPcUNV6"
      },
      "source": [
        "# preparing train_test_set\n",
        "X_train = df_train.drop('satisfaction', axis = 1)\n",
        "y_train = df_train['satisfaction']\n",
        "\n",
        "X_test = df_test.drop('satisfaction', axis = 1)\n",
        "y_test = df_test['satisfaction']\n"
      ],
      "execution_count": null,
      "outputs": []
    },
    {
      "cell_type": "code",
      "metadata": {
        "id": "iOi5Sgoy0dId"
      },
      "source": [
        "#Standardizing data\n",
        "from sklearn.preprocessing import MinMaxScaler\n",
        "sc = MinMaxScaler()\n",
        "X_train = sc.fit_transform(X_train)\n",
        "X_test = sc.transform(X_test)"
      ],
      "execution_count": null,
      "outputs": []
    },
    {
      "cell_type": "code",
      "metadata": {
        "id": "fQkzbTi-UTug"
      },
      "source": [
        "# making a dictionary in which we include two models with some parameters pre-set.\n",
        "model_params = {\n",
        "    'random_forest' :{\n",
        "        'model' : RandomForestClassifier(),\n",
        "        'params' : {\n",
        "            'n_estimators' : [1, 5, 10, 100]\n",
        "        }\n",
        "    },\n",
        "    \n",
        "    'logistics_regression' : {\n",
        "        'model' : LogisticRegression(max_iter = 7600, solver = 'lbfgs', multi_class = 'auto'),\n",
        "        'params' : {\n",
        "            'C' : [0.1, 1, 10, 100],\n",
        "            'solver' : ['lbfgs', 'liblinear']\n",
        "        }\n",
        "    }\n",
        "}"
      ],
      "execution_count": null,
      "outputs": []
    },
    {
      "cell_type": "code",
      "metadata": {
        "id": "rSS1s2IZUVKj",
        "colab": {
          "base_uri": "https://localhost:8080/"
        },
        "outputId": "4cdd28f8-b670-4d33-d5c3-7299c9c18450"
      },
      "source": [
        "# implement GridSearchCV for two models using a loop and a previously created dictionary\n",
        "# in the created variable scores, we save best_score and best_params for each model\n",
        "scores = []\n",
        "\n",
        "for model_name, mp in model_params.items():\n",
        "    clf = GridSearchCV(mp['model'], mp['params'], cv=5, n_jobs=-1)\n",
        "    print(mp['model'])\n",
        "    print('\\nfitting...')\n",
        "    clf.fit(X_train, y_train)\n",
        "    scores.append({\n",
        "        'model' : model_name,\n",
        "        'best_score' : clf.best_score_,\n",
        "        'best_params' : clf.best_params_\n",
        "    })\n",
        "    print('\\nscore is appended\\n')"
      ],
      "execution_count": null,
      "outputs": [
        {
          "output_type": "stream",
          "text": [
            "RandomForestClassifier(bootstrap=True, ccp_alpha=0.0, class_weight=None,\n",
            "                       criterion='gini', max_depth=None, max_features='auto',\n",
            "                       max_leaf_nodes=None, max_samples=None,\n",
            "                       min_impurity_decrease=0.0, min_impurity_split=None,\n",
            "                       min_samples_leaf=1, min_samples_split=2,\n",
            "                       min_weight_fraction_leaf=0.0, n_estimators=100,\n",
            "                       n_jobs=None, oob_score=False, random_state=None,\n",
            "                       verbose=0, warm_start=False)\n",
            "\n",
            "fitting...\n",
            "\n",
            "score is appended\n",
            "\n",
            "LogisticRegression(C=1.0, class_weight=None, dual=False, fit_intercept=True,\n",
            "                   intercept_scaling=1, l1_ratio=None, max_iter=7600,\n",
            "                   multi_class='auto', n_jobs=None, penalty='l2',\n",
            "                   random_state=None, solver='lbfgs', tol=0.0001, verbose=0,\n",
            "                   warm_start=False)\n",
            "\n",
            "fitting...\n",
            "\n",
            "score is appended\n",
            "\n"
          ],
          "name": "stdout"
        }
      ]
    },
    {
      "cell_type": "code",
      "metadata": {
        "id": "UId0ZSOYUqMT",
        "colab": {
          "base_uri": "https://localhost:8080/",
          "height": 110
        },
        "outputId": "fed00d53-a285-4650-ea2b-5523a9f368e8"
      },
      "source": [
        "# Membuat dataframe untuk best_score & best_params\n",
        "sc = pd.DataFrame(scores, columns=['model', 'best_score', 'best_params'])\n",
        "sc"
      ],
      "execution_count": null,
      "outputs": [
        {
          "output_type": "execute_result",
          "data": {
            "text/html": [
              "<div>\n",
              "<style scoped>\n",
              "    .dataframe tbody tr th:only-of-type {\n",
              "        vertical-align: middle;\n",
              "    }\n",
              "\n",
              "    .dataframe tbody tr th {\n",
              "        vertical-align: top;\n",
              "    }\n",
              "\n",
              "    .dataframe thead th {\n",
              "        text-align: right;\n",
              "    }\n",
              "</style>\n",
              "<table border=\"1\" class=\"dataframe\">\n",
              "  <thead>\n",
              "    <tr style=\"text-align: right;\">\n",
              "      <th></th>\n",
              "      <th>model</th>\n",
              "      <th>best_score</th>\n",
              "      <th>best_params</th>\n",
              "    </tr>\n",
              "  </thead>\n",
              "  <tbody>\n",
              "    <tr>\n",
              "      <th>0</th>\n",
              "      <td>random_forest</td>\n",
              "      <td>0.961792</td>\n",
              "      <td>{'n_estimators': 100}</td>\n",
              "    </tr>\n",
              "    <tr>\n",
              "      <th>1</th>\n",
              "      <td>logistics_regression</td>\n",
              "      <td>0.874798</td>\n",
              "      <td>{'C': 100, 'solver': 'liblinear'}</td>\n",
              "    </tr>\n",
              "  </tbody>\n",
              "</table>\n",
              "</div>"
            ],
            "text/plain": [
              "                  model  best_score                        best_params\n",
              "0         random_forest    0.961792              {'n_estimators': 100}\n",
              "1  logistics_regression    0.874798  {'C': 100, 'solver': 'liblinear'}"
            ]
          },
          "metadata": {
            "tags": []
          },
          "execution_count": 41
        }
      ]
    },
    {
      "cell_type": "markdown",
      "metadata": {
        "id": "Ie5TfXSHUzVv"
      },
      "source": [
        "##Random Forest"
      ]
    },
    {
      "cell_type": "code",
      "metadata": {
        "id": "u4TwbsPmUx7x",
        "colab": {
          "base_uri": "https://localhost:8080/"
        },
        "outputId": "dcc53444-734a-4079-ef23-f482bf76f91e"
      },
      "source": [
        "# Implementasi Random Forest model pake best_params\n",
        "clf_rfc = RandomForestClassifier(n_estimators =  100)  #--->>> masi pake library\n",
        "clf_rfc.fit(X_train, y_train)"
      ],
      "execution_count": null,
      "outputs": [
        {
          "output_type": "execute_result",
          "data": {
            "text/plain": [
              "RandomForestClassifier(bootstrap=True, ccp_alpha=0.0, class_weight=None,\n",
              "                       criterion='gini', max_depth=None, max_features='auto',\n",
              "                       max_leaf_nodes=None, max_samples=None,\n",
              "                       min_impurity_decrease=0.0, min_impurity_split=None,\n",
              "                       min_samples_leaf=1, min_samples_split=2,\n",
              "                       min_weight_fraction_leaf=0.0, n_estimators=100,\n",
              "                       n_jobs=None, oob_score=False, random_state=None,\n",
              "                       verbose=0, warm_start=False)"
            ]
          },
          "metadata": {
            "tags": []
          },
          "execution_count": 42
        }
      ]
    },
    {
      "cell_type": "code",
      "metadata": {
        "id": "CIJo8NWXU6OC",
        "colab": {
          "base_uri": "https://localhost:8080/",
          "height": 308
        },
        "outputId": "d45be27b-56ff-4e90-9333-100555157607"
      },
      "source": [
        "# confusion matrix \n",
        "sns.set_style(\"whitegrid\", {'axes.grid' : False})\n",
        "plot_confusion_matrix(clf_rfc,\n",
        "                     X_test,\n",
        "                     y_test,\n",
        "                     values_format = 'd',\n",
        "                     display_labels=['neutral or \\ndissatisfied', 'satisfied'])"
      ],
      "execution_count": null,
      "outputs": [
        {
          "output_type": "execute_result",
          "data": {
            "text/plain": [
              "<sklearn.metrics._plot.confusion_matrix.ConfusionMatrixDisplay at 0x7fa909e14f50>"
            ]
          },
          "metadata": {
            "tags": []
          },
          "execution_count": 44
        },
        {
          "output_type": "display_data",
          "data": {
            "image/png": "[encoded data removed]",
            "text/plain": [
              "<Figure size 432x288 with 2 Axes>"
            ]
          },
          "metadata": {
            "tags": []
          }
        }
      ]
    },
    {
      "cell_type": "code",
      "metadata": {
        "id": "fiEnak8aU7k0",
        "colab": {
          "base_uri": "https://localhost:8080/"
        },
        "outputId": "58f793d2-52de-484c-9683-fc215a1c2579"
      },
      "source": [
        "# Create a classification report for the RFC model \n",
        "predictions_rfc = clf_rfc.predict(X_test)\n",
        "print(classification_report(y_test,predictions_rfc))"
      ],
      "execution_count": null,
      "outputs": [
        {
          "output_type": "stream",
          "text": [
            "              precision    recall  f1-score   support\n",
            "\n",
            "           0       0.96      0.98      0.97     14573\n",
            "           1       0.97      0.94      0.96     11403\n",
            "\n",
            "    accuracy                           0.96     25976\n",
            "   macro avg       0.96      0.96      0.96     25976\n",
            "weighted avg       0.96      0.96      0.96     25976\n",
            "\n"
          ],
          "name": "stdout"
        }
      ]
    },
    {
      "cell_type": "markdown",
      "metadata": {
        "id": "xHl0XD00_kHi"
      },
      "source": [
        "## Logistic  Regression"
      ]
    },
    {
      "cell_type": "markdown",
      "metadata": {
        "id": "bn-lt2bNlPWX"
      },
      "source": [
        "![1_g0LkQh1jbJlia8e2hNGMpA.jpeg](data:image/jpeg;base64,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)"
      ]
    },
    {
      "cell_type": "markdown",
      "metadata": {
        "id": "jY89lO4o4_BS"
      },
      "source": [
        "Langkah langkah membuat Logistic Function\n",
        "1. Penentuan Koefisien Logistic Function : Maximum Likelihood + R-Squared (R²)\n",
        "2. Penentuan Koefisien Logistic Function : Stochastic Gradient Descent"
      ]
    },
    {
      "cell_type": "markdown",
      "metadata": {
        "id": "QblJivo98sHU"
      },
      "source": [
        "##### LR Manual"
      ]
    },
    {
      "cell_type": "code",
      "metadata": {
        "id": "FfFaV4Ob7L1Q"
      },
      "source": [
        "class LogisticRegressionM:\n",
        "\n",
        "    def __init__(self, learning_rate=0.001, n_iters=1000):\n",
        "        self.lr = learning_rate\n",
        "        self.n_iters = n_iters\n",
        "        self.weights = None\n",
        "        self.bias = None\n",
        "\n",
        "    def fit(self, X, y):\n",
        "        n_samples, n_features = X.shape\n",
        "\n",
        "        # init parameters\n",
        "        self.weights = np.zeros(n_features)\n",
        "        self.bias = 0\n",
        "\n",
        "        # gradient descent\n",
        "        for _ in range(self.n_iters):\n",
        "            # approximate y with linear combination of weights and x, plus bias\n",
        "            linear_model = np.dot(X, self.weights) + self.bias\n",
        "            # apply sigmoid function\n",
        "            y_predicted = self._sigmoid(linear_model)\n",
        "\n",
        "            # compute gradients\n",
        "            dw = (1 / n_samples) * np.dot(X.T, (y_predicted - y))\n",
        "            db = (1 / n_samples) * np.sum(y_predicted - y)\n",
        "            # update parameters\n",
        "            self.weights -= self.lr * dw\n",
        "            self.bias -= self.lr * db\n",
        "\n",
        "    def predict(self, X):\n",
        "        linear_model = np.dot(X, self.weights) + self.bias\n",
        "        y_predicted = self._sigmoid(linear_model)\n",
        "        y_predicted_cls = [1 if i > 0.5 else 0 for i in y_predicted]\n",
        "        return np.array(y_predicted_cls)\n",
        "\n",
        "    def _sigmoid(self, x):\n",
        "        return 1 / (1 + np.exp(-x))"
      ],
      "execution_count": null,
      "outputs": []
    },
    {
      "cell_type": "code",
      "metadata": {
        "colab": {
          "base_uri": "https://localhost:8080/"
        },
        "id": "RDrEpWrf7Nrw",
        "outputId": "64e15457-9288-416d-d0f6-cf0d4acb12e6"
      },
      "source": [
        "regressor = LogisticRegressionM(learning_rate=0.5, n_iters=1000)\n",
        "regressor.fit(X_train, y_train)\n",
        "predictions = regressor.predict(X_test)\n",
        "\n",
        "# Making the Confusion Matrix\n",
        "from sklearn.metrics import confusion_matrix\n",
        "cm = confusion_matrix(y_test, predictions)\n",
        "print(cm)\n",
        "\n",
        "print(classification_report(y_test, predictions))\n"
      ],
      "execution_count": null,
      "outputs": [
        {
          "output_type": "stream",
          "text": [
            "[[13011  1562]\n",
            " [ 1892  9511]]\n",
            "              precision    recall  f1-score   support\n",
            "\n",
            "           0       0.87      0.89      0.88     14573\n",
            "           1       0.86      0.83      0.85     11403\n",
            "\n",
            "    accuracy                           0.87     25976\n",
            "   macro avg       0.87      0.86      0.86     25976\n",
            "weighted avg       0.87      0.87      0.87     25976\n",
            "\n"
          ],
          "name": "stdout"
        }
      ]
    },
    {
      "cell_type": "markdown",
      "metadata": {
        "id": "91xc2lCkCXqp"
      },
      "source": [
        "##### LR Pakai Library"
      ]
    },
    {
      "cell_type": "code",
      "metadata": {
        "id": "8EBauSlXlTqk",
        "colab": {
          "base_uri": "https://localhost:8080/"
        },
        "outputId": "26c50c55-9248-419e-97db-f65491c9391b"
      },
      "source": [
        " from sklearn.linear_model import LogisticRegression\n",
        "clf_lr = LogisticRegression(max_iter = 2000)\n",
        "clf_lr.fit(X_train, y_train)"
      ],
      "execution_count": null,
      "outputs": [
        {
          "output_type": "execute_result",
          "data": {
            "text/plain": [
              "LogisticRegression(C=1.0, class_weight=None, dual=False, fit_intercept=True,\n",
              "                   intercept_scaling=1, l1_ratio=None, max_iter=2000,\n",
              "                   multi_class='auto', n_jobs=None, penalty='l2',\n",
              "                   random_state=None, solver='lbfgs', tol=0.0001, verbose=0,\n",
              "                   warm_start=False)"
            ]
          },
          "metadata": {
            "tags": []
          },
          "execution_count": 96
        }
      ]
    },
    {
      "cell_type": "code",
      "metadata": {
        "id": "XrKENliZlbYR",
        "colab": {
          "base_uri": "https://localhost:8080/"
        },
        "outputId": "c4239eec-fa60-4dde-f3cd-782bf20a7ff0"
      },
      "source": [
        "# Create a classification report for the LR model \n",
        "predictions_lr = clf_lr.predict(X_test) \n",
        "print(classification_report(y_test,predictions_lr))"
      ],
      "execution_count": null,
      "outputs": [
        {
          "output_type": "stream",
          "text": [
            "              precision    recall  f1-score   support\n",
            "\n",
            "           0       0.87      0.90      0.89     14573\n",
            "           1       0.87      0.83      0.85     11403\n",
            "\n",
            "    accuracy                           0.87     25976\n",
            "   macro avg       0.87      0.87      0.87     25976\n",
            "weighted avg       0.87      0.87      0.87     25976\n",
            "\n"
          ],
          "name": "stdout"
        }
      ]
    },
    {
      "cell_type": "code",
      "metadata": {
        "colab": {
          "base_uri": "https://localhost:8080/"
        },
        "id": "FnXYbmeRBzsB",
        "outputId": "43b1eb00-a0b3-48f3-fa46-f375c603fd8a"
      },
      "source": [
        "# Making the Confusion Matrix\n",
        "from sklearn.metrics import confusion_matrix\n",
        "cm = confusion_matrix(y_test, predictions_lr)\n",
        "print(cm)"
      ],
      "execution_count": null,
      "outputs": [
        {
          "output_type": "stream",
          "text": [
            "[[13137  1436]\n",
            " [ 1907  9496]]\n"
          ],
          "name": "stdout"
        }
      ]
    },
    {
      "cell_type": "markdown",
      "metadata": {
        "id": "EzNWZjU4kF-U"
      },
      "source": [
        "## Naive Bayes"
      ]
    },
    {
      "cell_type": "markdown",
      "metadata": {
        "id": "hIuA2niTDAix"
      },
      "source": [
        "![image.png](data:image/png;base64,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)"
      ]
    },
    {
      "cell_type": "markdown",
      "metadata": {
        "id": "jnc5m6nwGWbt"
      },
      "source": [
        "![image.png](data:image/png;base64,iVBORw0KGgoAAAANSUhEUgAAAssAAACdCAYAAABCQDUYAAAgAElEQVR4Ae2dvYtsxdaH3z/NwMDAxMCTGRhocgNBMBAzxUB4DQxMRBBEwcTAwMDAyEi8JsprIgjCxQ8QTiKIIPTLby7PsM46a9Wu2tM9p6fP78BQu6tqfT1rVe3qPT19/ufgfyZgAiZgAiZgAiZgAiZgAiWB/yl73WkCJmACJmACJmACJmACJnDwYdlFYAImYAImYAImYAImYAINAR+WGzDuNgETMAETMAETMAETMAEfll0DJmACJmACJmACJmACJtAQ8GG5AeNuEzABEzABEzABEzABE/Bh2TVgAiZgAiZgAiZgAiZgAg0BH5YbMO42ARMwARMwARMwARMwAR+WXQMmYAImYAImYAImYAIm0BDwYbkB424TMAETMAETMAETMAET8GHZNWACJmACJmACJmACJmACDQEflhsw7jYBEzABEzABEzABEzABH5ZdAyZgAiZgAiZgAiZgAibQEPBhuQHjbhMwARMwARMwARMwARPwYdk1YAImYAImYAImYAImYAINAR+WGzDuNgETMAETMAETMAETMIGzPiz/888/h1dfffXwxBNPlD9PPvnk4a233jr8+uuvZSaR/+CDD8rxPZ2ff/75lS9ffvnlHvEDPsn3H3744VqH9L7wwguHv/7667rvGBedvb///vtw7969Q/bjGDa3dPzyyy+Hp59++iTxbtn2+D4Cj7Je9nlsqYoAeXzqqacO9+/fr6Y8Fn23weE2bJxrslbvO+dyTyBn+b5I/6Wtmy5P51pXK34dO7Y7fVjmEJ0LG6Dffffd4djFfarDMovxmAd7cegKBnsdOxieor3tjVE5exRxnoIdOm87pkdZL8R8k/a2ed3E11PKksdj74un9PkUum+Dw23YOAWbY+hcve/c9j2hi5Gc5fsF/Ze2bro8dXy2+s9pnz12bHfmsFw9yf39998PL7300tWT3vxUFlDHPnyqGHRIr/zZKiSN41dejBqT7mMvxpG9GX9PMee2N8Z333334g7LlxjTKWoNneb1XxKXetNXdO+99155L6AGYnsbHG7DRozpnK5X7zu3fU9YZXWpuVzN0xa3c9pnjx3bnT4sK3EUcT586qly7ttK9Mz4KQ/LbBjHPOAfu2BmGG3NIc78BmdLbu/4OS3gvTFkuUuMKcd4zNfm9V+a7JfHflN+zFzt0aX9nt80zuwrt8HhNmzsYXUbMqv3ndu+J6wyuNRcruZpi9s57bPHju3OH5aVPCVIGyWHTCCNNk09lX7llVeuN1gdrPX5563PDK8clr/99tvDiy++eG1D+v/888+rz2FXB/kZv0fFumJvtPgzG7HVE/yvvvqqNS/f9WRHn0XmpiWZn3766SGZuDGKB0+EJCcuX3zxxUMyI381GXYcApiPL7FlzkNGUgd+vvbaa1cj8ov4Oj9RIYbvvPPO9XzZ73hIZob5akx7cqI1hJx8Zg1hu2O3Ei9cO1sw7Fr59/XXXz+wtuAbaxSfY+65znHM6sQndGc9jEuf/t6iG2ceLUz21Br5ojZhUa29zu+uH/9G8exlR23lXL788svlvoEvef5zzz13VQvoY96o3YqXfZ57CrqOwVq6VplJZmaPwM+ZNuubvQdm3ce471D/yuHsPQE/VnKCnW7v6eqi68eHUb3kemV9xr0KPdihlrPs1tpAT9Wu5EnyszWKz+ytsc3736zOyv9R32psI13d2EkOy/FQ8fzzzz/wh2ydI1W/wPIHfqOPPeTDMsnLGx02WDAxqVxTpMzNLYti5I9kmIdeWvHQoak6LCPXjWVf4utVezDKxRyf0OBzbCumI56KJbNiPiyifq71xiL+6/xlDrVCPMxHX2yZg2zX4qcOMB3fY/CYZb4SE77HuLke5UTxsJ40n/WA7YrdsW11+VA/eSaWqqXe8LmaE+NY0Ylv6I56GIt+duNxrq5heOpa6/zu+vETRjke+ivG9JEPdGFLtfX2229fv7lmvtpuD4xvrON8XfNGAzujFh9yPJJhPWZ95Cjbxd8uzmxjDzN8qmyrr9qHRvGPYmHNj+QZ6/ZF9vacx447/iBXxZnvCfIBuWr+Mfe5zm/5QG5yvezJM3b2rA1yUrWreVrxHZ+rHMTaX9FZxdD1rcbW6dnqP/phuXI8L5gtpxiPcPNGxJyYKOZQvLxmrto4X8XNk2S9y+ZgPtp4iK/SjZ24gN9///1rG3r3w9OfjsnId/Tndo89OMRipk9Fn5+y6x2ufM9+Zxm+mUS5++yzz65kog35Hv2VPt5hS+bTTz+9vnlGxtjJumBBrVTje381hJ96cqXYeeId/dziEetLT5rFNvpIXCvMFfMopqxzJSevv/76Vaw5/+iMvssP+rP/PGnO8cb8d7bIadWy/nRTjU9OlRMOUtXNfsRrj07izjzweVSPzIntMWptJs+d310/Pnbx3ISdaqOqG/bhfPhgb9SaYy3Kv7ivxj0D36u2i5c85BpiPv7ehPUqs2ybPUVxdftyFTN9Ud+eeyB6YCUms/c5bOd1E3Wt3hNWcoKdbu/p/Ov60ZfrRYxW8ywZ7Cgm4iLf8YyS1wY5qVp8XMnTHt9l+9j7bBVP7NsTW5RfuT7qYTknmoSrXUkuAbBBS77aBFU8ekqr8VisSnQ+xKCTIojzGcP/vJAZV4t85Q/zVDBdzCS384/xFV577FWxYruLXzerZ5555vDJJ58Q6jWPzl94xTcg2OkYVPFU/l47EZ44Vr6PFnDUka/xU7mM/jOv8pN4Ox7IoA8bld+yUzFX/yimLR8Yxwfpw48u1o4/umbjnbGlOdU/7Qd6w9GxYr+oxjtee3V2PPB75AtzYrvFn7qJnLfYMx7z3Pnd9eNjFc9N2e2ttRgP/nGQjnwYq9oqXnJQ3Rtg2elnPPpW2djDDL+qulZs3R5Rxa0+fK3irHzu9FQ1yVx8znt8p7+bj77KFnGs5AQ7q7VX+Y2uiuOePCtW7Kz6B6eqrdgxjxhinvb6Lp2yFXVh5yY60VG1q7FVOmb7jnpYBrwSnX+6gh45KsA8Zcj64uucnFHC0NcddvV0Sk+t4ncgRx9ZoJ189Lmaw3j2GRssllle6BOPFXvYiRswfdIVn9zgW26x3cWi+dRE3FCqvqib8cq32Bdl8KUa7+ohylfXlR9xXh7Hhy4XkuWmDo9V5tjvYsKHvTmp+MkmfsZxbK3EK12ZGzEdo+24dP0zNivZikfUBZvIK47n6y0meRz9q3nu/O768RN7s/EgN2LX+d7Zki7VWjyQYod1Nbtv5nh5XfmEP9UY9skP61r96LwpM/TM7sv4VLXEMlqzW/dA6d3Sw3hmRiyZScUv+s84cp3+SibmJOuJ83Xd+Zf7eZ3jy/pGr4+5Njo7cOryzfhqHJXv8qHr7/yL/auy+H7s2KJP8fqoh2UKSM7nn9lNLDoXYWR9eq0E518XI8Oiivrwb7Uwoo6tw/KWDfzrfEA+LvBoP18zv9PX2UMucyI+eOsjCB9++OHhm2++uf44CT6gg7mjNtphw+piRG+Mib6oBz/UEmc1vroI0bvqJz5Gv9FFi87o5wpz9HQx4cMoF4xFH/BrKydRBlur8W7ZIsauVa71q/f4B7rEpLbyp+OFjVWdxB55oEvtqB7jPK63mGCP2Hgd4+6uo4/IxT750PXj3yie22LHgVgM4pv5m34M47fffrv6D5rglw/jsGF81EauyMW+yHOlhvfsEdiKLT5RR3Fs5XpLD/WS7SCXmdxW/c/ayf5Fv7fqJXK8rbURbcZr/M55YE6XJ42v+i6ZY++z+Fm1N4mt0rfVd9TDsozlRa2NpUvUlnMkUjqqp6aVPDK52DV3C26lL/cRX+cPNir70oV/HRPku0NL9of5q/ZGcvkvcOPN4c0337w+NKMjjnfX0b/ZDSsywlbUE1nAtRrfWsBRT7xe9XPLR+nu5swyx78uJvR3eYj9kdVsrFEGW7EP/2irOVu2kK1a6eOjVzGWeB3rBh0dL43v0VnFhS21o3qM87jeYoI9YuN1jLu7jvlBLvbJh64f/7p4JLeaj7228KGLc+WBDD6Ip76xSO33339/9ZtMGBM7czu7sT9yRS72wXqVmeRW9wj8jy0+5RjjnJlr9OTYkCVX2U4nd1v1P2snx4XfimerXmAgmdU8YyfbRydcu3Hm0c7qq/K06rtsHnufJY6q3RtbpWum7+iHZRnVu37+kG30kYYtBykMbUbd4TTrQKYqJuDmwsg6Rq9nD8udDfzrxvFx9bDc6evsYafiFOP/+eefr/5QLy4cfJvVEfXpenbDijFt2SLOKp7RAs6+xdezfmITH6PfUV+MHZk8rtcj5szvYsKHkX50xHY1VsliazXeLVvRr3hNjrUfaF/RH4byxy/M67h0/Xt1EnvHGb3dOP7SbjHJ9vJr9Gy1nVzXj74qHvpW87HHFn7o3iJ78Ss59duv+HcUzB21+CBd+uH+wtPrePBm7mwusVvJ7WWGTtqZPYK5scWn0ZqN87vrLT3Eme0gl1nO1j/6Oj2dv/TP2sn+YW+mXmSL+DV/Za/CTraP/+jtxplHiz640U+LvjhO36rv0nnsfRY/q3ZPbJWe2b6THJZnjW/Ni0ljM9uS0fhMwjp9W5/X2josb/nMeCzOGBMFEDfrOJ6v0Rc3/DiH8WwPO7OLTjrZaNDV6Y72q2v0cOjOcxiPvm35Oxrv6iHbza/xY9ZPeHS5kH5uxp3OzgeYM97FhA95PnJduxVrxRdbq/Fu2dryMdZFnIs/VewdL3xZ1VnxiL5sjce5usaPri4Yx89RrFl3fN351fUjW41nn5hL2/lY6UJGLXLEypj23iq3jK+0+KDajR+7wHa0U/XN2MJGjGMvs5E9dEafu/nEMlqzW/dA6d7Sw3j2qWIifcRw6vrfstP5R/9MvcR4Yu5jTlb5IItcp5d5tMzv8s14zBOMOhuVDPaOvc+it2rxYyW2Ss9s30UelkebKofdalGyILoiEVTku8O25qhglMDqwEshxuKMyWI8buBxvLreY6+KVbHpNwJdbMhE3+FRxSpfFY++QSN+RyYxRj0xrioeFkYngx9V7roFHG1W13v8xI+OB7GR3z3M5esopi0fRjmp1oXskfvMd8tWjle64NrZqnIR5bIPzOeNSFUjHS98WdV5k3rE39jiR+W75sEx1tUW+yrPXR73xIPPq+w6H+CBL1kvDPQUma9uQ2a1HflAHZ2C9R5me/eIjgl1U62/EZesj3xETswhzlzPnf5uPvoqW8RR2ZecdHb3nip2yXT+df2SqeqFeHINEw8ys3yQ69YG41VbsWMefkY/6Fv1XTplK+rKdvboREfVrsZW6Zjtu8jDMoVYHfooeh1m4x8Hxu8w5CBTQWSBVrqZT7HJxuz3TyI78p05ud1jDw6xeNGjYv/4448fuCH98ccfV1/bpZiiDHrUr88zx+++5TtANRZ5YUf9slV9z3K14FgY+rUWdrR56EmIdOkn+gYncqZNNf/anjlVm/3kj4pkk++Dzn5GHrG+On7YWGEuX0cxRR9Wc7L3JiL2M/HKd2LubFW5UF+MK64r5YPv9Kam8rfZdLxuonNvPVbxwQT/V2ttNs/EW62T1XjQJZ9X8oFc5YPYdAcCcih71c+//vWvq31rZo1v+SAWcW0zX3ZvwjrqmWVGbazuEVWd5XUU1+zsPRC9+JXzH//gMjKMtnPuoy7JzNwTIsvZnGCn23vQmf3r+mExqpfZPI/4YKdbG4xXLTHP5olY8/xHtc9WMdG3Ghtye9qLPCwDsHvHqQMpn6lWQcSfbhEBlw07Hv4Yiy3zom5daxF+9NFHD2zEWS5vMHG8u161x4LIm0KnhzjkW44d3szJbX7zwXx9y0aXhyyjuPE569drHaDfeOON8rCMvSi3lWfZQ06642e2o57Kz1F9Vbk9FvMYE75HX+N19pv5UUesNdjnetGc1Xi3bEW7+XrESr7rf4SrGGMzMiDWvTphEnVyParHHJNe499qrSGH3dzmPONzlUfGsg697uLZww47lQ9i0R0I6Jc/3b6hsW7fj9y3fIBr1EVfxUd9s6z3MBvJyHa1L8d48/VozbIuskz1uvNLua3ucx132K7eE5CbzQnzuxg7/7p+mKA31kvHRr52e9WWHdZAt3bwJ7edL12euvkj32UTDjEfsN6rM8eSX3d6u9iy/OzrizwsU1AkqYKhd9Hxq6e02ehp6tZTCRKTD4yVjfzXy7z7lY7qhj7jd2WHvhV7o0UpNvrPH+INSf7iP/ZiW8nogPnjjz/GaVfXWlDPPvvs4f79+4ecB/2xDk/VHhI8HK7m8z/haUHKL56O6N19t4nIZjzwjmoDuyx8zf3zzz8feIItu1t+5vqSn92vjyt+W8y3Yqp0jnKifHdcRvUiXjmP5KWKN3LdWm/kIra5zlUzrN3R+hzx2qsTxtwciFtxjeoxxqPryGRPreX12uV5Jo+r62uV3ZYP7INxLUtGMXX1KYb6o7d79+6Ve2vmveWD5it/ymvc68l33Bv3sF5lJn8q21t7RI47vq7WLOsoztu6zrFwn6jucx131f9N7wkzOYnrrNp7Ov+6/simqpfMZmuv2rJTrY3ow+g6+zLKk/Tk+Vu+Y/sU+yy6uzb7uhVbp2fUf9aH5ZHjW2N656yNJP86dktua3x0M96S3RpnIcfNeUvG46cjQD5GN+jTWbfmx4mAa22cbe3nOrjmp7dZqjqw5Dl+bQImYAKrBC72sMw7tPhrkVU41fxTHpalOz5Nqey77/YI+ABze6wfd0uutXEFcFjWA5D89xSS/M9//nP9ufVTPCQZe+dREzCBSydwsYdlJU4b7LEPn6c6LHO491Pl81lyPsCcTy4u3RPX2jjD/PqZj7uM2q2nz2NLHjUBEzCBhwlc9GGZDfaYm+epDsvS61/3P1ygj7LHB5hHSf/xsu1am8t3919E6/OUfE5xTpNnmYAJmMA8gYs+LM9j8EwTMAETMAETMAETMAETeJiAD8sPM3GPCZiACZiACZiACZiACVwR8GHZhWACJmACJmACJmACJmACDQEflhsw7jYBEzABEzABEzABEzABH5ZdAyZgAiZgAiZgAiZgAibQEPBhuQHjbhMwARMwARMwARMwARPwYdk1YAImYAImYAImYAImYAINAR+WGzDuNgETMAETMAETMAETMAEfll0DJmACJmACJmACJmACJtAQ8GG5AeNuEzABEzABEzABEzABE/Bh2TVgAiZgAiZgAiZgAiZgAg0BH5YbMO42ARMwARMwARMwARMwAR+WXQMmYAImYAImYAImYAIm0BDwYbkB424TMAETMAETMAETMAET8GHZNWACJmACJmACJmACJmACDQEflhsw7jYBEzABEzABEzABEzABH5ZdAyZgAiZgAiZgAiZgAibQEPBhuQHjbhMwARMwARMwARMwARPwYdk1YAImYAImYAImYAImYAINAR+WGzDuNgETMAETMAETMAETMAEfll0DJmACJmACJmACJmACJtAQ8GG5AeNuEzABEzABEzABEzABE/Bh2TVgAiZgAiZgAiZgAiZgAg0BH5YbMO42ARMwARMwARMwARMwAR+WXQMmYAImYAImYAImYAIm0BDwYbkB424TMAETMAETMAETMAET8GHZNWACJmACJmACJmACJmACDQEflhsw7jYBEzABEzABEzABEzABH5ZdAyZgAiZgAiZgAiZgAibQEPBhuQHjbhMwARMwARMwARMwARPwYdk1YAImYAImYAImYAImYAINgbM+LP/zzz+HV1999fDEE0+UP08++eThrbfeOvz6669leMh/8MEH5fhM5+eff3544YUXDn/99dfM9Kk5+CX/f/jhh2uZv//++3Dv3r1D7r+ecMKLX3755fD0008fPdYTunw01Y+S+9GCsKKWAPl96qmnDvfv32/neeA8CDhfp8vDJbC9hBhOl+FtzfB7FOeMbe/Od8adPixziO6S/t133x1ueoOksG5y4M7p92H5cNCbkC5vmdepX5Pjc/HnWPGeE+NjxbRHD/m96V6wx7Zl1gk4X+vMZiUuge1txnCJeyj8Lu1+N7sG9s67M4flL7/88qEYf//998NLL7109dQ5P/3lQHqMQ64WzDFvtPh2TsV620+W33333bM5LD9UWBfSYcb/TSQ3h2Ou4XMpkffee6/c/87Fvz1+XHK+9vA4pswlsL3NGG57D73E9XzM+n2Uuu70YVngWDj54KmnyrlvL2gOksc4eMsHH5YPh9vehPbm/i7LmfF/s8cecWmHZe1x/HYtPyy4y3V7qfk6h5xcAtvbjOE299BLXc/nUPfH8OHOH5YFQQWtmwaHWQ6joxuInkq/8sor1zcbHaz1+efqs8kz+rpkfPvtt4cXX3zx2o5s/Pnnn1efxc6H+dEmkP1VvHqq/tVXX3Wmrw7leqeqzyJzU5XMTz/99JAMbwjETP7xDldy8vOLL754SGbkrybDjUMK8/Eltsx5yEjqwM/XXnvtakR+EV/nJzKqD/lEbNQHfnU+iP0777xzbUd+b3HsbKVwpl/K76+//vqBWsKPWAPEEtlyneOb1YmT6M56GM/5pr9ryctKLtFFHsk9LKra7vzu+qMN/c1EFe9edtRczuXLL79crkt8yfOfe+65q1pAH/O22lm/uXGzp0a9ozFyGn8TOGsTG1t5YV5ssZvXneri+eeff+BvQ2b2jC0fFFNVG8iRl5y3rTznfb67L2Gnqk1x2fIvy6Fvxm/m5vtXzIfuydHGag1EXfka+1F/nKPfBCvvuXZnfUA/+2ZsK5vSO3ufxc9cF1vr+Zj3IOKrYsG/qp2tzUr2EvpOcliOm1HeqFagseBVrHHzzTryYZliyIsFOTbWuAi4ZrNgLu2ezy6xaNFNKyY6bOXNBr9zEXNzQj63VZyjGGU382Q+vmUbeq2DfvzX+csc8kc8zK90MwfZrsVPHbA6vpkHMuqnVuQDucavygdkK59HHDtbXVyjfjhWPtBHPomF/tjG+FZ04hu6ox7G1KKzG49zdQ3blVxGuRgb11VOOr+7fvzs4qEfm1VLPtCFLdXc22+/ff3mNcrm/QBZ3tzFuVzzRoO5o3bF7+hvfoDAGmL9RJt5n1yxiR5sz9aR5Kil999/v/yjcNjO7hlbPhBX9hG5PXkmBnIb28waO9k+DLf8y3Lom/UbjnmvlX10UZv4EuPJ13m9EEfVoj/HoLncK7GN/IoP6M8+6nW2OcpZtRfJn9X1vGqD+d09iPhyLLCqWnRWTHJtVvKX0Hf0wzKLKEJlo1oFFgu8W0wkXvaYw4LhdbQb52tBcSPQuya+eaPaAEY6o36uY3FpA8eOnjTzNCxzwbdYxPQpvvzkW+9OpavTgwzfFiKen3322ZVMtCGfo7/Sx9NKyXz66afXN/fIFN+yLhiQv2pcN9zsN3KjFj/1Tlyx88Q7+pn1IvP6669fyWSOXRz0w5Ec8i5f/Tm2LVuj2Lox1pTeyMQnp4qZjbfasEaM9+iER44Zv0f5Zk5sYbWSS3wgJzO1jUz2u+vHxy6em7CT3/ge64m9J9/k2XdU09S6/Iv7SFyT+F61K34Te15L9Fe1z1isxRWb+LyVF+bFllqSX3GdaK3qwYT6qTP2Y/nL+jlWbeC77Okn7jXxHpPzHOVm7kvMz37DhFzk8U6O/lm/4R1zjW1qlrrcUwPoqlp8zbGNfNrrw2gPxQ/yPLMXwWZ2PWcbcc/Qbztlu+Ower+rWKsv+jBTm52eu95/1MNyhMqio82bwww4Frx0sPCiXNwI46LVwsibPHIsmjifMfzPxadxFuJsHDx9qeajK/tY2Wdu5ZP80uJ75plnDp988glhXD9xrWxrEgzimwLsZJ9QWsVT+ct8teSv8n20CUUd+Ro/VRPRf+ZVfm7JdHHAqeOIrejHli38nG3FUJtixVA69jDeq7PjRCwjX5gT2y1W8I38t3LCeMxJ53fXj49VPDdl19Vt50sVD/5x4418GMvtHr+xHfdecva///u/VzfqOEYMsN9jU36jp6v5HJte41clw1jFnhznfW/LB+SyPeQqW6PYYD17X8JOtg+bLf+yHPpm/UZ/5ib7Wrfo17y9+xex5BZfsaFxclzxu4kPiqWKUTbJWbf+GGc9RJnYR3zVekZHZ4M9MuqDxWwusd+1+FCxrXLR6bnr/Uc9LMckKVHxp0v2CCALMuqprnMxdwUe9cVNPvqgJw16MhG//1jjFMVMHFt2GM9+YyNuAvQp7vhkKfocrzvdcQ55isVf9VUylW+xL8rgSzXe5SjKV9f4WenU/Gq86ou6YRx14ru4d7XC5lZxjLqirVNcdyy7/hkfKtmKU9QFs9nYt/KSx9Gf1030AZmYk87vrh992JuNB7kRu873zpZ0qQbjzRA71N/MnoTMqM1+wzLql03F8O9///vqtzR5bLReKtvZpuZs5aXSU/nKPPR17Pf40OVry1YlR9+IXb4vYaerTXTm8U6O/o5RpY9DVKxN9MQ+8tC1Ff9urvqxQWy87nwf6WKs86Hrh8fIJjUZ9yLpm13P2BjVBXtAtIFd+BAjLby6ceapnfEh12aUv6Trox6WSYKSm3/ipjoLMCYq69NrFWr8NVdMblUI+Dcq8M43ZGNRbs3t7BBXHsdG9p1NCQb6deKHH354+Oabb64/3oEv6GDuqI12WGBdfOiNPtMX9eCHWuKsxrtNKMpX13v8nJWJfhJbjDf7g94oR1/HMeuYfS2W+tV7/KPUmNvKzy3GqzphEuON/o/yHedxvcUKe8TG6xh3dx19RC72yYeuH/9G8dwWO26GYhDfLO/5GIbiWvG74qOaUm3zR8qxzjWWGa/anMkL+YkttVTdZ6o4omy1TrZkutrYI4cMdR59666RqXhLZtW/PfpgHmuAN1P5YdNK3XUx0x99/e23367+Iy/2gdEhfY8PVW3ID3zA7qiNOVpZz9gY1QU5iDboi3mBXfQ9ysTxeD3jQ5x/yddHPSwLVD7YqQOZG7wAAB3hSURBVIhGyR7BZcFLR/d0L8sjUxXCTRKPbFeA0Q/mVj5oHj5mLiO5/NezcXG++eab14dmdMTx7jr6N7vAos/YinoiB+KsxrtNKMpX13v8nJWJfm7FJt+qOVu2qpi2+mSHz112uYx5Qd+I8R6dVbzYUjvKd5zH9RYr7BEbrzsGsX8ml+iLc/FtFI/kVvOx1xZMY2zxujocxhji9R6/Yw3hCza115MbxvL+uMfmFqsYE9fUEr7Rr3ZLX4wRuS0Z4s21s0cOGVjiw6hFJttHZtW/vfrETvXI/Vmvj1EDxFG1+Cpe+qYptd9//335DVPIS2Z1zUq2qg3140Nci911zBF56ebG+sVGlCce2moOayHnYSTDWG7Rv1KbWcelvD76YVlg9ASEP2KrPtIwCy8WFotxSxaZqsBuknhkuwKMfjG3KzB8zOPIVb5H/T///PPVH+rFxY9fszqiPl3PLrDo85Yt4qzi6Tah7Fd+PetntLlHhthivJ0vK7ayjq3XMNTmqrWkP7zkjzyQ7Vh2/Xt1wiTGiw9q0duNx7m6Xs3Llv2sn9edXNePXBUPfav52GMLP7Sfyl78Ckr9din+nQJzu3av3zwJ0xM78sVeXI3FJ3t7bW6xqmLEt3jYYN6WvmqdbMkQW671PXLIjPYaYqFFJttnfNW/vfqoAXFHxzFqgDiqFjscOHM95hqAxeqale2qNtSPDx3/ym/6ZtczNkZ1Qd1HP+jjTIBdWvRGGcZyy9yRD1nmUl+f5LB8LFixyFkQM7q7Ap/R133+hqLJC7HyZ8sO47kAsTFTxNhlYaCr0838rkVPt8AYj75t+Tsa73LU+Uc/fqz4uSVT+QlHbbBd7XGjiL5s2SKO2RZ9kXuUxU/yH8c6xnt1Vpyiva3xOFfX+BH5xTmME/so1iiXrzu/un7kq/HsE3NpOx8rXcioRY5YGYtPb+nb097Ub+Uo+0JM2hPzmHy8qc3MYhQ3tqr9GT87fdU62ZLpxrt+fK/yTN9or8n3pS073fhq/8hvjUV9+takvA+Rl449sWc57FYtNsWrOphnXTfxoaoN+bTHb8lV66SKMdoY1cWeexD8upxEf4hz5EOuzSh/SdcXeVgeFaTGlPjqBj0qIhZcXJyjQtAik51q80ZXXtSVffmrp/TdgQ2ZqIsYK9vyWfb1DRr6vDf/Op8Yr+JhIUXbzFeLH9Wi7DahKF9d7/ETmSrnsgHD7Cf+dxxhEmtiy1YV06gPfdk3ZNgsqxx0jPfqvEm+8Te2+FH5rnnwjfy3ciKduba7/O6JB59X89H5AA98yXphoKfIfDUVMivtXr+jX2+88cZD+6b8k8/6LVf2fa/NLVZV3NiKtcK8LX3VOiHurjapwxzzli30Zjn0VXtUpRM9x/KvsgE/tdjLfmuMGq3ud+SlkpPsaP+K9uP1yFf0xTq4iQ9VbeALOYu2GFMru3kvgtXset6ygb6Ve9CIX/Sfa3yYrU3kLq29yMMyC6Y6YFIoWtjxjwPjd2DGwiPhI53MiS0LVHb4Xk+Nxz/MyRsdvsWNBT2a+/HHHz9ww/zjjz+uvpZHNqIMetSvzzPH7+blu5k1FvlgR/2yVX3PcvZX8bBY43ebamPVu03p0k/0DUYsQG00+WMFzKna7Cd/9CSbfB909hOZarHLBryyn/QrhlgrHXfp2rJVxTTqiz7EOlK8fGc2Oct/VNMxvonOvfmuYoQV/s/kMvo+W9vI5PzKp9V40CWfV/KBXOWD/OgOI+RQ9qqff/3rX1f7wtYawv6q3/It+pAPBqOxvTaR61iNain7p7lb+lQDec+Q3GptzNjq8oyPyk/ca0b3pWP6h/2Oeee3YubeKN/jPSXy2FN3kq/+bfma88n8PT5Q39V9Kuqd3YvQJ1+qn7yeo41YFze5B6Gzy3Vmznz5G30Y1WbWcQmvL/KwzE242jiVNC1uPlOdC7Y7UKnIqw11VATdwlCRfvTRRw/poyhzEXd68F1+5U0KBszJbX5DwHx9y0bHJssodnzO+vVaB2g9jcrxSA57Ua5jHxkjJ93xM9tRT/YTmU4/MVR+jmqlqoeRrdFNJcaYr0f5V0z6H+FGvkQ2MNirE1ZRJ9ejfOeY9BpWK7mMctjNbc4/Plf5ZSzr0Osunj3ssFP5oJi6wwj98qdblxrr9rrIfY/fmfdon8ljkt1jc4tVjIlraqnisKUvH67QidxKbSCzmmfZHO01rFt8U4utY/iHrj1+U6Od7J4aiHHm6y1fq1rY6wO6IuOYi2o8zs17Eaw0Z3Y9j+pitO9HPyPDLX5xLtcjHzo7yF5Ke5GHZQpylES9K4pfw6Wi05Pb6gnNjL6uIPK3WPAOVIs3F/qoiOWvvtw9LjDJo6+yX8nogPnjjz8+NF2L/tlnnz3cv3//kNnoj4l46veQ4OFwNZ//TUibgPziHahuRN0mKpvxwDvKF3bZnDRXX18Vn2DLbuVnlKnyO+Iuu5kH8VW/Fh/Z2ntYlg+5jpQT6pUbQXVYGTHeq5O64qYAD7Ed5Zsc0kZWs7lEFh/ieuhqeya/q/W7ym7LB/aYuFYko5hG60J/7Hvv3r2H9hI45XbVb8nju/Kcf3uB39UYtldtYi+yQFfXUkvHPCzLFnU2W+tbvsOri63aa1jnVezH8u8mfhNTxR6fV2sAuard8lUy2oeUs7gn7vVhtIfKFjnY2ovk9971XNWF7rGr9yD5O8Ov4l75MKrNSsdd7jvrw/JNwOpgMtrAV3SzEceFtyLvuccjQC5GB4jjWTu+Jh1s9cRSb0oe9393PZenzh9vrvLTqWy3OhjkOX5tAqcicMx77al8PAe9Xs/nkIX9PlzsYZl3T6N3u7PYdMDpngTM6vC84xC4ywcs+a4nCz4o/7cW7nIuj1PNYy3cXPWmX09w8lOk//znP9efWz/Wg4GxRx41gQcJ6GmjfrNxVx9ePBjNaV95PZ+W76m1X+xhWeBUnDc95HLo9lPlU5finH4fsOY43YVZzuU4S/x6m48AjNqtp89jSx41gXkCVV36/rjNr+LWrWmv522etz3jog/LFOdNCk9Plf2u+bbLsrfnA1bP5q6NOJdzGev+m3N9bn30Nwtz2j3LBNYIcF/VQU+/0aj+TmRN4+M12+v5bub7og/LdzMl9toETMAETMAETMAETOBcCPiwfC6ZsB8mYAImYAImYAImYAJnR8CH5bNLiR0yARMwARMwARMwARM4FwI+LJ9LJuyHCZiACZiACZiACZjA2RHwYfnsUmKHTMAETMAETMAETMAEzoWAD8vnkgn7YQImYAImYAImYAImcHYEfFg+u5TYIRMwARMwARMwARMwgXMh4MPyuWTCfpiACZiACZiACZiACZwdAR+Wzy4ldsgETMAETMAETMAETOBcCPiwfC6ZsB8mYAImYAImYAImYAJnR8CH5bNLiR0yARMwARMwARMwARM4FwI+LJ9LJuyHCZiACZiACZiACZjA2RHwYfnsUmKHTMAETMAETMAETMAEzoWAD8vnkgn7YQImYAImYAImYAImcHYEfFg+u5TYIRMwARMwARMwARMwgXMh4MPyuWTCfpiACZiACZiACZiACZwdAR+Wzy4ldsgETMAETMAETMAETOBcCPiwfC6ZsB8mYAImYAImYAImYAJnR8CH5bNLiR0yARMwARMwARMwARM4FwI+LJ9LJuyHCZiACZiACZiACZjA2RHwYfnsUmKHTMAETMAETMAETMAEzoWAD8vnkgn7YQImYAImYAImYAImcHYEfFg+u5TYIRMwARMwARMwARMwgXMh4MPyuWTCfpiACZiACZiACZiACZwdAR+Wzy4ldsgETMAETMAETMAETOBcCPiwfC6ZsB8mYAImYAImYAImYAJnR8CH5bNLiR0yARMwARMwARMwARM4FwI+LJ9LJuyHCZiACZiACZiACZjA2RHwYfnsUmKHTMAETMAETMAETMAEzoWAD8vnkgn7YQImYAImYAImYAImcHYEfFg+u5TYIRMwARMwARMwARMwgXMhcNaH5X/++efw6quvHp544ony58knnzy89dZbh19//bXkifwHH3xQjudO5kvvDz/8kIevX3/++edX/nz55ZfXfTe9kM4XXnjh8Ndff91U1QPyXUx///334d69e4etWB9QdqQXv/zyy+Hpp58+SbxHcvFKzSqjbj79Tz311OH+/fvHdPFaV2eD/pxn+k/p07VzR77oavrIZqzuhAS6HFKXuV63XNkrt6X31OP4fRfX4W3t43vswDXXEf2ZN/15/qnzb/13h8CdPixziO4K/LvvvjvkRTFKTbeBZ5lTHJZZrLMH++xT97qLCXsdu07fMfr3bH43sat87YlzlVE3n/6VWlyNt7NBf46f/lP6tBrD7PyupmflV+btrZ0VG4/j3C6H1GWuVzEa5WIkd8588fsursPb2sf32IFrriP6M2/68/ytujvn2rJvxyVwZw7L1VPc33///fDSSy9dPeXNT2XZjFcOn8hUCyZiP8VhWfqlNy/iaHfP9WxMe3Tvldmz+e21Jbl33333Vg7LnY9sxMfObbS3amN1frT1qK9vs6b31s6jZnTu9vfk8BJzcZfX4W3t48e0s4f3Jdbdue8P5+jfnT4sCyjFnw+4eqqc+7YSMLuBn+qwzKawcsA/Vkxbeo45Tpz5Dc4xbURdeze7rrai7plr9PiwPENre87sOt3WtD1jb+1sa368Z+zJ4SXm4jb2hlNV2m3t48e0s4f3JdbdqWrikvXe+cOykqNi1kcyOGSyEY8OY99+++3hxRdfvP4stD77/Oeff159RnrrkL1yWNbT71deeeXajnTLVvXZ5Bm/R8W4EtNo08g+i62e4H/11Vetefn+3nvvXX0WmY/HSOann356SCZufmIuOWTE54svvnhIZuSvJsOOAynz0Rtb5jxkJHWgY6seEGN+1t/1I0c9Ub/0rzDtbMz2x9/SiFWXO3zT/HfeeWcq3zeRWalp7HSteH799dcPrHtijbUNs1gzXOfczurEJ3RnPYznOqZ/q81rdrTPSNdK/vCZ/TQzfPnll8t1js8rOcQWfHgN/9gyR3aYF/uwf5vxHrseYgxcs3++9tprV13aL/U3IGLT7Z/IaI+Rj+y55BTdK3WBTumY3cdlZ5XRHjtdPcz2My/WG9eqsd9++23zb350LunqEd5u7w6BkxyW4+J9/vnnh38sN0LFjUNFWn0MA9l8WKbQ8+GD+RxOKH5a+apDwtbhCPmRT7LFIkd/bPMmFX3bss/c2OJTtKHrLiYY5cWsJ/JZR3xdMR3FqVgyJ+bjW9TPtd5QxH+dv8yhVoiH+eiLLXOQ7Vp0zOaD+Vl/1y+78ObGhy8win5zXTHtbMz0/9///d/1zRYbaru4V31TTHtkVmsadlVLfcT48jV1CrM8rtcxtys68QndUQ9jatHZjce5XI/YVvvMaP6otqTr7bffLveHrlZWc5j58HorF8yruN1WvOSu8pU+aozcjfxmTm6JR3tGxzfv08ion/ulfIr1wRx8jW1VF8xf2cf3MNpjp+M628+8yIBragz2mbXyhXze13Mu/fruEDj6YZkCorDUdhvpFqa4sPImgyxFKTvM4QDCa+aqZeFp/vvvv3/9hFdPP+K785t+G0b0SwuGJ8l65843fFSLbOR7jCNe74kJ/1j40kef2OSn33qaJD45l1mGbyZR7j777LMrmWgj50D6eKonmU8//fT6Zhzzh52sCw7USjWum0P2G7lRi81ZWeZnH7p+8hZvWPKH+eRhhikys7aZr9j0Gxb5wG8BVKN60yj7ebNHDt9iXetJs/o7H1ZkYCOZves05pZ9STd24tS46qZ7yqbxUe3s0Qm/zAhfR3XMnNiiT5xm9pk4P65xnihu5a/KIftZrpU9OcS/is8oF50c/ZXfM/VayXXxnqIeYq65hutzzz13tb/ym7i4f+Y9C5nXX3/9SibmXnr3cEKnGMnezD6+h9EeO8ST62i1X2y6usOvvH9LZs99nPy6PU8CRz0sU4haPPknb6QzOLhxSFc8OCEbb+qxYLUg82aBjApf+ip/KP5OFh0s+MqnPCf6xRic8kLWOD5U/iGf2z0xVT5gu/JLNrUBPPPMM4dPPvnk2gVYdP4yHt8YYKfjXMVT+XvtxMYTuW6zi/LVNTY7P7MM8zO/qh8GVX3AbIVpZUP+bfVrLVQ+dP5t+UbuYr73yKCnYoBvs3nRPqKDUc4L+WOfqca72tmrs8vHjC/MiS1sqxxWtphfcZVeuMf8oUe1Evvxg/HMD12VrS6HnS5863Leyd1WvKeqBxjHFnZdPiruWzJ7OKGzy0n2Yy+jVTti1dXDav+o7tg3qvgVe14PMYe+vnsEjnpYpqi1iPNPtWFu4aIYs678OherCjX3yVbUVx10Ga9ko69sLJWOGTuao6dZesqVn2CzmGd54bOYVP4wnmPCTlzQ9EkXTyti3Pm60x3nURPxZl71VTKVb7EvyuBLNd7VQ5SvruGR2VVz1cf87EPu53WllziqMexW/NC5ZRsdzO/qhvGoD986GenmiQr5PoUMOkeMiHO27Wqk65/RW8lWXKMuYovc43i8Zu4oH3GfmZmf8yd7+NzxRm/0mb7ON8azTmxFXcRc8WSsksNG54NkjxUvfozayv/K75EOjbH+K0bd+EhmLyd0staz34x3fub5el0xQs+KnY7ran/nE75zFohvIrER+5jv9u4SOOphmSLR5pR/Zg9/EWVcxFmfXmujzb9OQqZaoPiXN2hsItuNM48FUh1ONWfLDnqqFtluY8gyzO987mJCLnMiNnjrV30ffvjh4Ztvvrn+KAk+oIO5ozba2dr80Btjoi/qwQ+1xFmNVxtwlO2usRn96Oaqn/nZh9jPH4bAKm+ozGV81EY7yMW+WZ+q/yil0kffiAe5xY9TyJDrkR9VniSnj1vFP7iNfCt9W7WzqhMe8Ml+Els3Huejq/I7zuN6Zn7On2SR63yqfEam8w2ZPI5cZWuUi0qOvmwDHmqPFS86j10P6I0tPnf3iCrukUw1P9rTNfIxL/St+CFdq4z22CGm6K9sr/ZLZlR3lW96AzaqOen0v7tH4KiHZYWfD1u6Ge0tHDZU6egOphk5MnmRaF63UNCB7Ja/xNj5hJ0tPdiNLbLdBhTn6pr5Vbwa72IayeW/do8HijfffPP60IyOON5dR/+qDSbGhd7Ij76oJ8oQZzU+2uyijnyNzehHnhNfMz/7QL/06PPBar///vvym1eY23GM/dEOcrFPvq32E08lV/UxnzbPya+ZF9s8J7+Oc3VNrmfzIhnp5HPYkWG8rvSNamePztnYch4zA2Ja+V84t2xHndH+lhz52COTmY9sbeVCLFZ8OGa86FqtsVG80ln927N/jmRmfKjmjHTKb2RijtW3ymivnVwP0adYJ6N+jY3qjnHtI5wHNH/2/i15/7sbBI5+WFbYt/1tGBF1tXEzXi1extQiGxd3HOf6HA/Lnc9dTLDImwYx0v78889Xf6gXNzg2glkd6KI95uaHTuKs4tna7NCRW+Lr2Hbzsw/o4WDGpsqvgONvXZibdWRb+XUnt9qP3kqOvhEPcov/p5Ah1yM/iEMt88VfH33SHyLxh4nM62qk69+rEx7wwT4tertx5qlF1yyHmfk5f9FO51Pl85YtZLLvyFW2ulx0PqIr24gMjxUv8azWGD5W8UY/4zU+sw/HMV1XOkcyzF/lNNIZ/UDvXkardqLtzJVYZ/ula1R3Go/7OPrzbww1z//uNoGTHJaPhSQuLg4YM7q74t7SxziLu7O1dVhGT3y3mXXFzxLGMRZbPEDF8Xy9ZYvxHBN28qaR9cfXbFro6nRHmeoaPd1mz3j0bcvf0XhXD5VvsQ+dxBvHqmvmR781j37VQ9xEK35VX2Ur92Gjsz3bj95KH76N6pobB7k9hQw6Z/NS1RNxqh3p62pnr86Ka/RlazzOxe9RPuI+MzM/50/2tnxCb6wx+jrfGM85HNnqctH5iI3OB8kdK95T1UPMN9fYYo3RT8t4zAd9lcxeTiOd8oVx/Miv8ZcWP3JNIFf5XtlRX1dHq/3SNaq7bEvf5pT91xz/u/sELvKwrMNsV7AqfG2e1WGURdnJku6tw7LmMada4N2ClRw+xEMVdrt2T0yVD/JZXw/XvTFBJvIhzoon8egbNPTZcv4RY9TDmNoqnm4jRQ4/2JjpR19nK87L11W8eU58zfzsQ9cvWW7WkR+xxL5oR/wy087Gaj92Orkt38hdrN89MuipGGzVDzHQMj/nhXFyUNWI/Kj69+q8SR3jb2xhO7vPML/iKr1wj/nragE/iCnzRVdlC36Z7chWlwv50cndVrzEkxnAqKuxzm/kqhZbmR1zK+7IVHUiuT2c0DnrB/NXGSE3a0fxdFxX+6VrVHeZeXe2YJ7bu0vgIg/LbEzVoY+Fp6Le+/2tbCyVfkqBRSk78Y8Qz/l7lmGjTenjjz8+8P2+iumPP/64+votxRM3uxinPs8cv8OW72aWTGSFHfXLVvX9nNXGyE0gfleubtR6eiZd2TdyQb50086/fmdO1RJb5ctofuSjeejJ/ejImzHzFc8sU2SyjdV+fNqSk2+xrrv6iPGvyMQa2btOcyyyH3WpdvgucI1Vee5qBz57dO6tY+KJbfQj5qPbZ7r5M/nLtYUf3WF5Tw7xr7LV5UJ+dHL0r9QeMpUPslXFi8xqPSDX2YJxbCNX1SzfXCS/+J76XMvIdIdl/FjhhE7JyN7WPh5trKzDVTsz9ZB541vul65R3ZEXzhxiEe91jLu9+wQu8rDM4qqeaChlFL8KO/5ooXz00UflTTOmGvmtRaEFxH90Eu3outu0pDtvdNF2d41P2U4XU7c5dHrQK99y3PBmTm7jUyr5z3x9y0bHJ8tIDp+zfr3WAfqNN9544CAPK+xFuY4/Mlv2oi7qDP/yhtv1Ywv/0KN++qKdeJ35dDZW+/Gpk9P4qK672t0j09ViV9P4XrWdLjFVLeh/pqt8r/JA7ezVCduYT65HdVzFtZUPfI2yq7nA31zX6KwOj4x1jLocjmyNcjGSu614u1hHNTbyG4a5hYNqJf4tCTWkNu8PyFT1gP5VTuhc2cf3MNpjp+O62i822I98M8fRGoCv27tN4CIPyxRuLuiYqvyNDzzB02KubppRlgWfD41xDtd6whO/qkq69dS2esI54zd6q3Ylpm7TkF75rP/EIR5k5TeMKtuVjDbyH3/88aHp2nyeffbZg76yLPPRV9XxpOQhweAbG5f84omanth1N3TZjDeWUW1gF0bY6loOuczPPnT92FHL08ZYUytMOxur/fjUyTGe80Ye4m8jmEu7R2alprHTtVmXao21OFrTo9rZq5PcUlPw074wquMutootsVUy1Xytoyp/W7XAvpXrHruZEftItddu2epysSV3W/HmWLdqbMtvGMZWDLQ3aw/7888/H/jNmuqo2j+jTHXvQf8KJ+ncs4+vMtpjp+O62g8X+TC6f7AGuBcg5/ZyCJz1YfkmmPUuWRtH/k8/bqIT2dGNlTl7Wja0eGDao8cyJmACJmACl0mA+8TMG/7LJHB+UZ3yvHF+0T6eHl3sYZl3kKd4p3eqw7L0dk9nHs/ydNQmYAImYAKRgA/Lkcajv9bTeH2ns9+8PPpcnNKDiz0sC5re7Z3i8HmKwzKHez9VPmW5W7cJmIAJ3G0CPiw/+vzxsQs+RqXW9+5Hn5dTenDRh2UKOv+xw02BnuKwLJ1+Z3rTzFjeBEzABC6bgA/Ljz6/nC10SO4+J/7ovbQHxyRw0YflY4KyLhMwARMwARMwARMwgcePgA/Lj1/OHbEJmIAJmIAJmIAJmMAkAR+WJ0F5mgmYgAmYgAmYgAmYwONHwIflxy/njtgETMAETMAETMAETGCSgA/Lk6A8zQRMwARMwARMwARM4PEj4MPy45dzR2wCJmACJmACJmACJjBJwIflSVCeZgImYAImYAImYAIm8PgR8GH58cu5IzYBEzABEzABEzABE5gk4MPyJChPMwETMAETMAETMAETePwI+LD8+OXcEZuACZiACZiACZiACUwS8GF5EpSnmYAJmIAJmIAJmIAJPH4EfFh+/HLuiE3ABEzABEzABEzABCYJ+LA8CcrTTMAETMAETMAETMAEHj8CPiw/fjl3xCZgAiZgAiZgAiZgApMEfFieBOVpJmACJmACJmACJmACjx8BH5Yfv5w7YhMwARMwARMwARMwgUkC/w8rmw75+dvA2AAAAABJRU5ErkJggg==)"
      ]
    },
    {
      "cell_type": "markdown",
      "metadata": {
        "id": "Wj3BSLeSDVoV"
      },
      "source": [
        "![image.png](data:image/png;base64,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)"
      ]
    },
    {
      "cell_type": "markdown",
      "metadata": {
        "id": "Uqn6fPb9GEnx"
      },
      "source": [
        "![image.png](data:image/png;base64,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)"
      ]
    },
    {
      "cell_type": "markdown",
      "metadata": {
        "id": "EZSiOW3TDGP9"
      },
      "source": [
        "##### NB Manual"
      ]
    },
    {
      "cell_type": "code",
      "metadata": {
        "id": "uPkq0czMsB60"
      },
      "source": [
        "class NaiveBayes:\n",
        "\n",
        "    def fit(self, X, y):\n",
        "        n_samples, n_features = X.shape\n",
        "        self._classes = np.unique(y)\n",
        "        n_classes = len(self._classes)\n",
        "\n",
        "        # calculate mean, var, and prior for each class\n",
        "        self._mean = np.zeros((n_classes, n_features), dtype=np.float64)\n",
        "        self._var = np.zeros((n_classes, n_features), dtype=np.float64)\n",
        "        self._priors =  np.zeros(n_classes, dtype=np.float64)\n",
        "\n",
        "        for idx, c in enumerate(self._classes):\n",
        "            X_c = X[y==c]\n",
        "            self._mean[idx, :] = X_c.mean(axis=0)\n",
        "            self._var[idx, :] = X_c.var(axis=0)\n",
        "            self._priors[idx] = X_c.shape[0] / float(n_samples)\n",
        "\n",
        "    def _pdf(self, class_idx, x):\n",
        "        mean = self._mean[class_idx]\n",
        "        var = self._var[class_idx]\n",
        "        numerator = np.exp(- (x-mean)**2 / (2 * var))\n",
        "        denominator = np.sqrt(2 * np.pi * var)\n",
        "        return numerator / denominator\n",
        "\n",
        "    def _predict(self, x):\n",
        "        posteriors = []\n",
        "\n",
        "        # calculate posterior probability for each class\n",
        "        for idx, c in enumerate(self._classes):\n",
        "            prior = np.log(self._priors[idx])\n",
        "            posterior = np.sum(np.log(self._pdf(idx, x)))\n",
        "            posterior = prior + posterior\n",
        "            posteriors.append(posterior)\n",
        "            \n",
        "        # return class with highest posterior probability\n",
        "        return self._classes[np.argmax(posteriors)]\n",
        "\n",
        "    def predict(self, X):\n",
        "        y_pred = [self._predict(x) for x in X]\n",
        "        return np.array(y_pred)"
      ],
      "execution_count": null,
      "outputs": []
    },
    {
      "cell_type": "code",
      "metadata": {
        "id": "LmdIlSJ5sKjr"
      },
      "source": [
        "nb = NaiveBayes()\n",
        "nb.fit(X_train, y_train)\n",
        "predictions = nb.predict(X_test)"
      ],
      "execution_count": null,
      "outputs": []
    },
    {
      "cell_type": "code",
      "metadata": {
        "id": "XhH67Y4z2pnw",
        "colab": {
          "base_uri": "https://localhost:8080/"
        },
        "outputId": "4d279644-776f-49c6-ee67-731a6d42a8b4"
      },
      "source": [
        "print(classification_report(y_test, predictions))"
      ],
      "execution_count": null,
      "outputs": [
        {
          "output_type": "stream",
          "text": [
            "              precision    recall  f1-score   support\n",
            "\n",
            "           0       0.86      0.89      0.88     14573\n",
            "           1       0.86      0.82      0.84     11403\n",
            "\n",
            "    accuracy                           0.86     25976\n",
            "   macro avg       0.86      0.86      0.86     25976\n",
            "weighted avg       0.86      0.86      0.86     25976\n",
            "\n"
          ],
          "name": "stdout"
        }
      ]
    },
    {
      "cell_type": "code",
      "metadata": {
        "id": "z_Wg65EG-9sB",
        "colab": {
          "base_uri": "https://localhost:8080/"
        },
        "outputId": "9b9d76f3-251f-423d-b026-ed8d3390031a"
      },
      "source": [
        "# Making the Confusion Matrix\n",
        "from sklearn.metrics import confusion_matrix\n",
        "cm = confusion_matrix(y_test, predictions)\n",
        "print(cm)"
      ],
      "execution_count": null,
      "outputs": [
        {
          "output_type": "stream",
          "text": [
            "[[13036  1537]\n",
            " [ 2049  9354]]\n"
          ],
          "name": "stdout"
        }
      ]
    },
    {
      "cell_type": "markdown",
      "metadata": {
        "id": "3mLocKBiJSgY"
      },
      "source": [
        "##### NB Pakai Library"
      ]
    },
    {
      "cell_type": "code",
      "metadata": {
        "id": "JiUg-KvtJWtF",
        "colab": {
          "base_uri": "https://localhost:8080/",
          "height": 309
        },
        "outputId": "b03147e9-2258-4468-e9e2-5789312359b7"
      },
      "source": [
        "from sklearn.naive_bayes import GaussianNB\n",
        "# Fitting Naive Bayes to the Training set\n",
        "clf_NB = GaussianNB()\n",
        "clf_NB.fit(X_train, y_train)\n",
        "\n",
        "# Making the Confusion Matrix\n",
        "sns.set_style(\"whitegrid\", {'axes.grid' : False})\n",
        "plot_confusion_matrix(clf_NB,\n",
        "                     X_test,\n",
        "                     y_test,\n",
        "                     values_format = 'd',\n",
        "                     display_labels=['neutral or \\ndissatisfied', 'satisfied'])\n",
        "\n"
      ],
      "execution_count": null,
      "outputs": [
        {
          "output_type": "execute_result",
          "data": {
            "text/plain": [
              "<sklearn.metrics._plot.confusion_matrix.ConfusionMatrixDisplay at 0x7fad70612290>"
            ]
          },
          "metadata": {
            "tags": []
          },
          "execution_count": 65
        },
        {
          "output_type": "display_data",
          "data": {
            "image/png": "[encoded data removed]",
            "text/plain": [
              "<Figure size 432x288 with 2 Axes>"
            ]
          },
          "metadata": {
            "tags": []
          }
        }
      ]
    },
    {
      "cell_type": "code",
      "metadata": {
        "id": "yd8X7z4xo4cq",
        "colab": {
          "base_uri": "https://localhost:8080/"
        },
        "outputId": "02cb4630-37fc-4659-a11f-b8277eafb6fa"
      },
      "source": [
        "# Create a classification report for the NB model \n",
        "predictions_nb = clf_NB.predict(X_test) \n",
        "print(classification_report(y_test,predictions_nb))"
      ],
      "execution_count": null,
      "outputs": [
        {
          "output_type": "stream",
          "text": [
            "              precision    recall  f1-score   support\n",
            "\n",
            "           0       0.86      0.89      0.88     14573\n",
            "           1       0.86      0.82      0.84     11403\n",
            "\n",
            "    accuracy                           0.86     25976\n",
            "   macro avg       0.86      0.86      0.86     25976\n",
            "weighted avg       0.86      0.86      0.86     25976\n",
            "\n"
          ],
          "name": "stdout"
        }
      ]
    },
    {
      "cell_type": "markdown",
      "metadata": {
        "id": "o2sI9KA4JJbm"
      },
      "source": [
        "## KNN"
      ]
    },
    {
      "cell_type": "code",
      "metadata": {
        "id": "b_4vp4itEStP",
        "colab": {
          "base_uri": "https://localhost:8080/",
          "height": 311
        },
        "outputId": "b24da3ea-5bdf-4c61-b666-ba39450c4ad4"
      },
      "source": [
        "from sklearn.neighbors import KNeighborsClassifier\n",
        "knn = KNeighborsClassifier(n_neighbors=9)\n",
        "knn.fit(X_train, y_train)\n",
        "\n",
        "# Predicting the Test set results\n",
        "y_pred = knn.predict(X_test)\n",
        "\n",
        "# Making the Confusion Matrix\n",
        "sns.set_style(\"whitegrid\", {'axes.grid' : False})\n",
        "plot_confusion_matrix(knn,\n",
        "                     X_test,\n",
        "                     y_test,\n",
        "                     values_format = 'd',\n",
        "                     display_labels=['neutral or \\ndissatisfied', 'satisfied'])"
      ],
      "execution_count": null,
      "outputs": [
        {
          "output_type": "execute_result",
          "data": {
            "text/plain": [
              "<sklearn.metrics._plot.confusion_matrix.ConfusionMatrixDisplay at 0x7fad701d6b50>"
            ]
          },
          "metadata": {
            "tags": []
          },
          "execution_count": 68
        },
        {
          "output_type": "display_data",
          "data": {
            "image/png": "[encoded data removed]",
            "text/plain": [
              "<Figure size 432x288 with 2 Axes>"
            ]
          },
          "metadata": {
            "tags": []
          }
        }
      ]
    },
    {
      "cell_type": "code",
      "metadata": {
        "id": "EzlB5yN1HsMV",
        "colab": {
          "base_uri": "https://localhost:8080/"
        },
        "outputId": "a45f27e1-5ffd-4c97-8d9e-355118a8449c"
      },
      "source": [
        "# Create a classification report for the KNN model \n",
        "predictions_knn = knn.predict(X_test) \n",
        "print(classification_report(y_test,predictions_knn))"
      ],
      "execution_count": null,
      "outputs": [
        {
          "output_type": "stream",
          "text": [
            "              precision    recall  f1-score   support\n",
            "\n",
            "           0       0.91      0.97      0.94     14573\n",
            "           1       0.96      0.88      0.92     11403\n",
            "\n",
            "    accuracy                           0.93     25976\n",
            "   macro avg       0.94      0.93      0.93     25976\n",
            "weighted avg       0.93      0.93      0.93     25976\n",
            "\n"
          ],
          "name": "stdout"
        }
      ]
    }
  ]
}
